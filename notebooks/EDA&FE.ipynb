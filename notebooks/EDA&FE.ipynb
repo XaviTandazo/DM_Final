{
 "cells": [
  {
   "cell_type": "code",
   "execution_count": 1,
   "id": "a75d0310",
   "metadata": {},
   "outputs": [],
   "source": [
    "import pandas as pd\n",
    "import numpy as np\n",
    "import matplotlib.pyplot as plt\n",
    "from pathlib import Path\n",
    "import seaborn as sns\n",
    "from matplotlib.colors import to_rgba"
   ]
  },
  {
   "cell_type": "markdown",
   "id": "4304a55a",
   "metadata": {},
   "source": [
    "#### **Carga de tablas.**"
   ]
  },
  {
   "cell_type": "code",
   "execution_count": 2,
   "id": "35c06231",
   "metadata": {},
   "outputs": [],
   "source": [
    "try:\n",
    "    PROJECT_ROOT = Path(__file__).resolve().parents[1]\n",
    "except NameError:\n",
    "    PROJECT_ROOT = Path().resolve().parents[0]\n",
    "\n",
    "RAW_DATA_PATH = PROJECT_ROOT / \"data\" / \"raw\"\n",
    "def load_raw_data():\n",
    "    visitas = pd.read_csv(RAW_DATA_PATH / \"visits_log_us.csv\")\n",
    "    costos = pd.read_csv(RAW_DATA_PATH / \"costs_us.csv\")\n",
    "    ordenes = pd.read_csv(RAW_DATA_PATH / \"orders_log_us.csv\")\n",
    "    return visitas, costos, ordenes"
   ]
  },
  {
   "cell_type": "code",
   "execution_count": 3,
   "id": "dda7a21f",
   "metadata": {},
   "outputs": [],
   "source": [
    "visitas, costos, ordenes = load_raw_data()"
   ]
  },
  {
   "cell_type": "code",
   "execution_count": 4,
   "id": "4a15a9d3",
   "metadata": {},
   "outputs": [],
   "source": [
    "def exploracion_inicial(df):\n",
    "    print('-' * 30 + ' Estructura de la tabla ' + '-' * 30)\n",
    "    print(df.info())\n",
    "    \n",
    "    print('-' * 30 + ' Duplicados ' + '-' * 30)\n",
    "    print(f'Duplicados: {df.duplicated().sum()}')\n",
    "\n",
    "    print('-' * 30 + ' Datos ausentes ' + '-' * 30)\n",
    "    print(df.isna().sum())\n",
    "\n",
    "    print('-' * 30 + ' Primeras filas ' + '-' * 30)\n",
    "    print(df.head())\n"
   ]
  },
  {
   "cell_type": "markdown",
   "id": "6f58d2a7",
   "metadata": {},
   "source": [
    "### **Exploración del archivo de visitas**"
   ]
  },
  {
   "cell_type": "code",
   "execution_count": 5,
   "id": "d7a11c95",
   "metadata": {},
   "outputs": [
    {
     "name": "stdout",
     "output_type": "stream",
     "text": [
      "------------------------------ Estructura de la tabla ------------------------------\n",
      "<class 'pandas.core.frame.DataFrame'>\n",
      "RangeIndex: 359400 entries, 0 to 359399\n",
      "Data columns (total 5 columns):\n",
      " #   Column     Non-Null Count   Dtype \n",
      "---  ------     --------------   ----- \n",
      " 0   Device     359400 non-null  object\n",
      " 1   End Ts     359400 non-null  object\n",
      " 2   Source Id  359400 non-null  int64 \n",
      " 3   Start Ts   359400 non-null  object\n",
      " 4   Uid        359400 non-null  uint64\n",
      "dtypes: int64(1), object(3), uint64(1)\n",
      "memory usage: 13.7+ MB\n",
      "None\n",
      "------------------------------ Duplicados ------------------------------\n",
      "Duplicados: 0\n",
      "------------------------------ Datos ausentes ------------------------------\n",
      "Device       0\n",
      "End Ts       0\n",
      "Source Id    0\n",
      "Start Ts     0\n",
      "Uid          0\n",
      "dtype: int64\n",
      "------------------------------ Primeras filas ------------------------------\n",
      "    Device               End Ts  Source Id             Start Ts  \\\n",
      "0    touch  2017-12-20 17:38:00          4  2017-12-20 17:20:00   \n",
      "1  desktop  2018-02-19 17:21:00          2  2018-02-19 16:53:00   \n",
      "2    touch  2017-07-01 01:54:00          5  2017-07-01 01:54:00   \n",
      "3  desktop  2018-05-20 11:23:00          9  2018-05-20 10:59:00   \n",
      "4  desktop  2017-12-27 14:06:00          3  2017-12-27 14:06:00   \n",
      "\n",
      "                    Uid  \n",
      "0  16879256277535980062  \n",
      "1    104060357244891740  \n",
      "2   7459035603376831527  \n",
      "3  16174680259334210214  \n",
      "4   9969694820036681168  \n"
     ]
    }
   ],
   "source": [
    "exploracion_inicial(visitas)"
   ]
  },
  {
   "cell_type": "markdown",
   "id": "6daf459b",
   "metadata": {},
   "source": [
    "Podemos observar que:\n",
    "- No existen duplicados en el df\n",
    "- No existen valores nulos en las columnas"
   ]
  },
  {
   "cell_type": "markdown",
   "id": "3e9c95a8",
   "metadata": {},
   "source": [
    "### **Exploración del archivo de ordenes**"
   ]
  },
  {
   "cell_type": "code",
   "execution_count": 6,
   "id": "dcb2a5c5",
   "metadata": {},
   "outputs": [
    {
     "data": {
      "text/html": [
       "<div>\n",
       "<style scoped>\n",
       "    .dataframe tbody tr th:only-of-type {\n",
       "        vertical-align: middle;\n",
       "    }\n",
       "\n",
       "    .dataframe tbody tr th {\n",
       "        vertical-align: top;\n",
       "    }\n",
       "\n",
       "    .dataframe thead th {\n",
       "        text-align: right;\n",
       "    }\n",
       "</style>\n",
       "<table border=\"1\" class=\"dataframe\">\n",
       "  <thead>\n",
       "    <tr style=\"text-align: right;\">\n",
       "      <th></th>\n",
       "      <th>Buy Ts</th>\n",
       "      <th>Revenue</th>\n",
       "      <th>Uid</th>\n",
       "    </tr>\n",
       "  </thead>\n",
       "  <tbody>\n",
       "    <tr>\n",
       "      <th>0</th>\n",
       "      <td>2017-06-01 00:10:00</td>\n",
       "      <td>17.00</td>\n",
       "      <td>10329302124590727494</td>\n",
       "    </tr>\n",
       "    <tr>\n",
       "      <th>1</th>\n",
       "      <td>2017-06-01 00:25:00</td>\n",
       "      <td>0.55</td>\n",
       "      <td>11627257723692907447</td>\n",
       "    </tr>\n",
       "    <tr>\n",
       "      <th>2</th>\n",
       "      <td>2017-06-01 00:27:00</td>\n",
       "      <td>0.37</td>\n",
       "      <td>17903680561304213844</td>\n",
       "    </tr>\n",
       "    <tr>\n",
       "      <th>3</th>\n",
       "      <td>2017-06-01 00:29:00</td>\n",
       "      <td>0.55</td>\n",
       "      <td>16109239769442553005</td>\n",
       "    </tr>\n",
       "    <tr>\n",
       "      <th>4</th>\n",
       "      <td>2017-06-01 07:58:00</td>\n",
       "      <td>0.37</td>\n",
       "      <td>14200605875248379450</td>\n",
       "    </tr>\n",
       "    <tr>\n",
       "      <th>5</th>\n",
       "      <td>2017-06-01 08:43:00</td>\n",
       "      <td>0.18</td>\n",
       "      <td>10402394430196413321</td>\n",
       "    </tr>\n",
       "    <tr>\n",
       "      <th>6</th>\n",
       "      <td>2017-06-01 08:54:00</td>\n",
       "      <td>1.83</td>\n",
       "      <td>12464626743129688638</td>\n",
       "    </tr>\n",
       "    <tr>\n",
       "      <th>7</th>\n",
       "      <td>2017-06-01 09:22:00</td>\n",
       "      <td>1.22</td>\n",
       "      <td>3644482766749211722</td>\n",
       "    </tr>\n",
       "    <tr>\n",
       "      <th>8</th>\n",
       "      <td>2017-06-01 09:22:00</td>\n",
       "      <td>3.30</td>\n",
       "      <td>17542070709969841479</td>\n",
       "    </tr>\n",
       "    <tr>\n",
       "      <th>9</th>\n",
       "      <td>2017-06-01 09:23:00</td>\n",
       "      <td>0.37</td>\n",
       "      <td>1074355127080856382</td>\n",
       "    </tr>\n",
       "  </tbody>\n",
       "</table>\n",
       "</div>"
      ],
      "text/plain": [
       "                Buy Ts  Revenue                   Uid\n",
       "0  2017-06-01 00:10:00    17.00  10329302124590727494\n",
       "1  2017-06-01 00:25:00     0.55  11627257723692907447\n",
       "2  2017-06-01 00:27:00     0.37  17903680561304213844\n",
       "3  2017-06-01 00:29:00     0.55  16109239769442553005\n",
       "4  2017-06-01 07:58:00     0.37  14200605875248379450\n",
       "5  2017-06-01 08:43:00     0.18  10402394430196413321\n",
       "6  2017-06-01 08:54:00     1.83  12464626743129688638\n",
       "7  2017-06-01 09:22:00     1.22   3644482766749211722\n",
       "8  2017-06-01 09:22:00     3.30  17542070709969841479\n",
       "9  2017-06-01 09:23:00     0.37   1074355127080856382"
      ]
     },
     "execution_count": 6,
     "metadata": {},
     "output_type": "execute_result"
    }
   ],
   "source": [
    "ordenes.head(10)"
   ]
  },
  {
   "cell_type": "code",
   "execution_count": 7,
   "id": "aaf850bd",
   "metadata": {},
   "outputs": [
    {
     "name": "stdout",
     "output_type": "stream",
     "text": [
      "------------------------------ Estructura de la tabla ------------------------------\n",
      "<class 'pandas.core.frame.DataFrame'>\n",
      "RangeIndex: 50415 entries, 0 to 50414\n",
      "Data columns (total 3 columns):\n",
      " #   Column   Non-Null Count  Dtype  \n",
      "---  ------   --------------  -----  \n",
      " 0   Buy Ts   50415 non-null  object \n",
      " 1   Revenue  50415 non-null  float64\n",
      " 2   Uid      50415 non-null  uint64 \n",
      "dtypes: float64(1), object(1), uint64(1)\n",
      "memory usage: 1.2+ MB\n",
      "None\n",
      "------------------------------ Duplicados ------------------------------\n",
      "Duplicados: 0\n",
      "------------------------------ Datos ausentes ------------------------------\n",
      "Buy Ts     0\n",
      "Revenue    0\n",
      "Uid        0\n",
      "dtype: int64\n",
      "------------------------------ Primeras filas ------------------------------\n",
      "                Buy Ts  Revenue                   Uid\n",
      "0  2017-06-01 00:10:00    17.00  10329302124590727494\n",
      "1  2017-06-01 00:25:00     0.55  11627257723692907447\n",
      "2  2017-06-01 00:27:00     0.37  17903680561304213844\n",
      "3  2017-06-01 00:29:00     0.55  16109239769442553005\n",
      "4  2017-06-01 07:58:00     0.37  14200605875248379450\n"
     ]
    }
   ],
   "source": [
    "exploracion_inicial(ordenes)"
   ]
  },
  {
   "cell_type": "markdown",
   "id": "fce0169d",
   "metadata": {},
   "source": [
    "Podemos observar que:\n",
    "- No existen duplicados en el df\n",
    "- No existen valores nulos en las columnas"
   ]
  },
  {
   "cell_type": "markdown",
   "id": "70855309",
   "metadata": {},
   "source": [
    "### **Exploración del archivo de costos**"
   ]
  },
  {
   "cell_type": "code",
   "execution_count": 8,
   "id": "dd31216a",
   "metadata": {},
   "outputs": [
    {
     "data": {
      "text/html": [
       "<div>\n",
       "<style scoped>\n",
       "    .dataframe tbody tr th:only-of-type {\n",
       "        vertical-align: middle;\n",
       "    }\n",
       "\n",
       "    .dataframe tbody tr th {\n",
       "        vertical-align: top;\n",
       "    }\n",
       "\n",
       "    .dataframe thead th {\n",
       "        text-align: right;\n",
       "    }\n",
       "</style>\n",
       "<table border=\"1\" class=\"dataframe\">\n",
       "  <thead>\n",
       "    <tr style=\"text-align: right;\">\n",
       "      <th></th>\n",
       "      <th>source_id</th>\n",
       "      <th>dt</th>\n",
       "      <th>costs</th>\n",
       "    </tr>\n",
       "  </thead>\n",
       "  <tbody>\n",
       "    <tr>\n",
       "      <th>0</th>\n",
       "      <td>1</td>\n",
       "      <td>2017-06-01</td>\n",
       "      <td>75.20</td>\n",
       "    </tr>\n",
       "    <tr>\n",
       "      <th>1</th>\n",
       "      <td>1</td>\n",
       "      <td>2017-06-02</td>\n",
       "      <td>62.25</td>\n",
       "    </tr>\n",
       "    <tr>\n",
       "      <th>2</th>\n",
       "      <td>1</td>\n",
       "      <td>2017-06-03</td>\n",
       "      <td>36.53</td>\n",
       "    </tr>\n",
       "    <tr>\n",
       "      <th>3</th>\n",
       "      <td>1</td>\n",
       "      <td>2017-06-04</td>\n",
       "      <td>55.00</td>\n",
       "    </tr>\n",
       "    <tr>\n",
       "      <th>4</th>\n",
       "      <td>1</td>\n",
       "      <td>2017-06-05</td>\n",
       "      <td>57.08</td>\n",
       "    </tr>\n",
       "    <tr>\n",
       "      <th>5</th>\n",
       "      <td>1</td>\n",
       "      <td>2017-06-06</td>\n",
       "      <td>40.39</td>\n",
       "    </tr>\n",
       "    <tr>\n",
       "      <th>6</th>\n",
       "      <td>1</td>\n",
       "      <td>2017-06-07</td>\n",
       "      <td>40.59</td>\n",
       "    </tr>\n",
       "    <tr>\n",
       "      <th>7</th>\n",
       "      <td>1</td>\n",
       "      <td>2017-06-08</td>\n",
       "      <td>56.63</td>\n",
       "    </tr>\n",
       "    <tr>\n",
       "      <th>8</th>\n",
       "      <td>1</td>\n",
       "      <td>2017-06-09</td>\n",
       "      <td>40.16</td>\n",
       "    </tr>\n",
       "    <tr>\n",
       "      <th>9</th>\n",
       "      <td>1</td>\n",
       "      <td>2017-06-10</td>\n",
       "      <td>43.24</td>\n",
       "    </tr>\n",
       "  </tbody>\n",
       "</table>\n",
       "</div>"
      ],
      "text/plain": [
       "   source_id          dt  costs\n",
       "0          1  2017-06-01  75.20\n",
       "1          1  2017-06-02  62.25\n",
       "2          1  2017-06-03  36.53\n",
       "3          1  2017-06-04  55.00\n",
       "4          1  2017-06-05  57.08\n",
       "5          1  2017-06-06  40.39\n",
       "6          1  2017-06-07  40.59\n",
       "7          1  2017-06-08  56.63\n",
       "8          1  2017-06-09  40.16\n",
       "9          1  2017-06-10  43.24"
      ]
     },
     "execution_count": 8,
     "metadata": {},
     "output_type": "execute_result"
    }
   ],
   "source": [
    "costos.head(10)"
   ]
  },
  {
   "cell_type": "code",
   "execution_count": 9,
   "id": "192a7900",
   "metadata": {},
   "outputs": [
    {
     "name": "stdout",
     "output_type": "stream",
     "text": [
      "------------------------------ Estructura de la tabla ------------------------------\n",
      "<class 'pandas.core.frame.DataFrame'>\n",
      "RangeIndex: 2542 entries, 0 to 2541\n",
      "Data columns (total 3 columns):\n",
      " #   Column     Non-Null Count  Dtype  \n",
      "---  ------     --------------  -----  \n",
      " 0   source_id  2542 non-null   int64  \n",
      " 1   dt         2542 non-null   object \n",
      " 2   costs      2542 non-null   float64\n",
      "dtypes: float64(1), int64(1), object(1)\n",
      "memory usage: 59.7+ KB\n",
      "None\n",
      "------------------------------ Duplicados ------------------------------\n",
      "Duplicados: 0\n",
      "------------------------------ Datos ausentes ------------------------------\n",
      "source_id    0\n",
      "dt           0\n",
      "costs        0\n",
      "dtype: int64\n",
      "------------------------------ Primeras filas ------------------------------\n",
      "   source_id          dt  costs\n",
      "0          1  2017-06-01  75.20\n",
      "1          1  2017-06-02  62.25\n",
      "2          1  2017-06-03  36.53\n",
      "3          1  2017-06-04  55.00\n",
      "4          1  2017-06-05  57.08\n"
     ]
    }
   ],
   "source": [
    "exploracion_inicial(costos)"
   ]
  },
  {
   "cell_type": "markdown",
   "id": "bb8d1aa9",
   "metadata": {},
   "source": [
    "Podemos observar que:\n",
    "- No existen duplicados en el df\n",
    "- No existen valores nulos en las columnas"
   ]
  },
  {
   "cell_type": "markdown",
   "id": "a6677f6b",
   "metadata": {},
   "source": [
    "### Ajuste de tipos de datos:\n",
    "Esta transformación prepara los datos para ingeniería de variables temporales, marketing y comportamiento."
   ]
  },
  {
   "cell_type": "code",
   "execution_count": 10,
   "id": "d55fd309",
   "metadata": {},
   "outputs": [],
   "source": [
    "# Ajustar tipos de datos en VISITS\n",
    "visitas['Uid'] = visitas['Uid'].astype(str)\n",
    "visitas['Device'] = visitas['Device'].astype('category')\n",
    "visitas['Source Id'] = visitas['Source Id'].astype(str)\n",
    "\n",
    "# Ajustar tipos de datos en ORDERS\n",
    "ordenes['Uid'] = ordenes['Uid'].astype(str)\n",
    "ordenes['Revenue'] = ordenes['Revenue'].astype(float)\n",
    "\n",
    "# Ajustar tipos de datos en COSTS\n",
    "costos['source_id'] = costos['source_id'].astype(str)\n",
    "costos['dt'] = pd.to_datetime(costos['dt'])\n",
    "costos['costs'] = costos['costs'].astype(float)\n"
   ]
  },
  {
   "cell_type": "code",
   "execution_count": 11,
   "id": "f9ee3860",
   "metadata": {},
   "outputs": [],
   "source": [
    "visitas.columns  = [ columna.lower().replace(' ','_') for columna in visitas.columns] # Normalizacion nombres"
   ]
  },
  {
   "cell_type": "code",
   "execution_count": 12,
   "id": "145c590c",
   "metadata": {},
   "outputs": [],
   "source": [
    "visitas['start_ts'] = pd.to_datetime(visitas['start_ts']) #Colimnas de fecha a datetime\n",
    "visitas['end_ts'] = pd.to_datetime(visitas['end_ts'])"
   ]
  },
  {
   "cell_type": "code",
   "execution_count": 13,
   "id": "cdbed14e",
   "metadata": {},
   "outputs": [
    {
     "data": {
      "text/plain": [
       "device\n",
       "desktop    262567\n",
       "touch       96833\n",
       "Name: count, dtype: int64"
      ]
     },
     "execution_count": 13,
     "metadata": {},
     "output_type": "execute_result"
    }
   ],
   "source": [
    "visitas.value_counts('device')"
   ]
  },
  {
   "cell_type": "markdown",
   "id": "a09c6723",
   "metadata": {},
   "source": [
    "Esto indica que:\n",
    "\n",
    "    73% de las visitas vienen desde dispositivos de escritorio (desktop).\n",
    "\n",
    "    27% provienen desde dispositivos móviles o touch."
   ]
  },
  {
   "cell_type": "markdown",
   "id": "c154c424",
   "metadata": {},
   "source": [
    "nota: (device) es una variable de marketing clave, permitiendo segmentar usuarios según la plataforma utilizada."
   ]
  },
  {
   "cell_type": "code",
   "execution_count": 14,
   "id": "2dcaa280",
   "metadata": {},
   "outputs": [
    {
     "data": {
      "text/plain": [
       "(Timestamp('2017-06-01 00:01:00'), Timestamp('2018-05-31 23:59:00'))"
      ]
     },
     "execution_count": 14,
     "metadata": {},
     "output_type": "execute_result"
    }
   ],
   "source": [
    "visitas['start_ts'].min(), visitas['start_ts'].max()"
   ]
  },
  {
   "cell_type": "markdown",
   "id": "21fd0484",
   "metadata": {},
   "source": [
    "Podemos observar el rango temporal de las visitas:\n",
    "- La fecha más antigua Start_ts: 1 de junio de 2017 a las 00:01.\n",
    "- La fecha más reciente Start_ts: 31 de mayo de 2018 a las 23:59."
   ]
  },
  {
   "cell_type": "code",
   "execution_count": 15,
   "id": "d7fb2d3e",
   "metadata": {},
   "outputs": [
    {
     "data": {
      "text/plain": [
       "(Timestamp('2017-06-01 00:02:00'), Timestamp('2018-06-01 01:26:00'))"
      ]
     },
     "execution_count": 15,
     "metadata": {},
     "output_type": "execute_result"
    }
   ],
   "source": [
    "visitas['end_ts'].min(), visitas['end_ts'].max()"
   ]
  },
  {
   "cell_type": "markdown",
   "id": "09f0ad90",
   "metadata": {},
   "source": [
    "\n",
    "- La fecha más antigua End_ts: 1 de junio de 2017 a las 00:02.\n",
    "- La fecha más reciente: 1 de junio de 2018 a la 01:26."
   ]
  },
  {
   "cell_type": "code",
   "execution_count": 16,
   "id": "15eb12cb",
   "metadata": {},
   "outputs": [],
   "source": [
    "ordenes.columns  = [ columna.lower().replace(' ','_') for columna in ordenes.columns]"
   ]
  },
  {
   "cell_type": "code",
   "execution_count": 17,
   "id": "74f98c2f",
   "metadata": {},
   "outputs": [
    {
     "data": {
      "text/plain": [
       "(Timestamp('2017-06-01 00:10:00'), Timestamp('2018-06-01 00:02:00'))"
      ]
     },
     "execution_count": 17,
     "metadata": {},
     "output_type": "execute_result"
    }
   ],
   "source": [
    "ordenes['buy_ts'] = pd.to_datetime(ordenes['buy_ts']) #Columnas de fecha a datetime\n",
    "ordenes['buy_ts'].min(), ordenes['buy_ts'].max() #Rango temporal"
   ]
  },
  {
   "cell_type": "markdown",
   "id": "15efd574",
   "metadata": {},
   "source": [
    "Creamos una variable date para costos con los datos de dt"
   ]
  },
  {
   "cell_type": "code",
   "execution_count": 18,
   "id": "d43704c7",
   "metadata": {},
   "outputs": [],
   "source": [
    "costos['date'] = pd.to_datetime(costos['dt'])\n",
    "costos.drop(['dt'], axis=1, inplace=True)"
   ]
  },
  {
   "cell_type": "code",
   "execution_count": 19,
   "id": "36ddd195",
   "metadata": {},
   "outputs": [
    {
     "data": {
      "text/html": [
       "<div>\n",
       "<style scoped>\n",
       "    .dataframe tbody tr th:only-of-type {\n",
       "        vertical-align: middle;\n",
       "    }\n",
       "\n",
       "    .dataframe tbody tr th {\n",
       "        vertical-align: top;\n",
       "    }\n",
       "\n",
       "    .dataframe thead th {\n",
       "        text-align: right;\n",
       "    }\n",
       "</style>\n",
       "<table border=\"1\" class=\"dataframe\">\n",
       "  <thead>\n",
       "    <tr style=\"text-align: right;\">\n",
       "      <th></th>\n",
       "      <th>source_id</th>\n",
       "      <th>costs</th>\n",
       "      <th>date</th>\n",
       "    </tr>\n",
       "  </thead>\n",
       "  <tbody>\n",
       "    <tr>\n",
       "      <th>0</th>\n",
       "      <td>1</td>\n",
       "      <td>75.20</td>\n",
       "      <td>2017-06-01</td>\n",
       "    </tr>\n",
       "    <tr>\n",
       "      <th>1</th>\n",
       "      <td>1</td>\n",
       "      <td>62.25</td>\n",
       "      <td>2017-06-02</td>\n",
       "    </tr>\n",
       "    <tr>\n",
       "      <th>2</th>\n",
       "      <td>1</td>\n",
       "      <td>36.53</td>\n",
       "      <td>2017-06-03</td>\n",
       "    </tr>\n",
       "    <tr>\n",
       "      <th>3</th>\n",
       "      <td>1</td>\n",
       "      <td>55.00</td>\n",
       "      <td>2017-06-04</td>\n",
       "    </tr>\n",
       "    <tr>\n",
       "      <th>4</th>\n",
       "      <td>1</td>\n",
       "      <td>57.08</td>\n",
       "      <td>2017-06-05</td>\n",
       "    </tr>\n",
       "  </tbody>\n",
       "</table>\n",
       "</div>"
      ],
      "text/plain": [
       "  source_id  costs       date\n",
       "0         1  75.20 2017-06-01\n",
       "1         1  62.25 2017-06-02\n",
       "2         1  36.53 2017-06-03\n",
       "3         1  55.00 2017-06-04\n",
       "4         1  57.08 2017-06-05"
      ]
     },
     "execution_count": 19,
     "metadata": {},
     "output_type": "execute_result"
    }
   ],
   "source": [
    "costos.head()"
   ]
  },
  {
   "cell_type": "markdown",
   "id": "0f95619e",
   "metadata": {},
   "source": [
    "Creamos las variables para visitas diarias, semanales y mensuales"
   ]
  },
  {
   "cell_type": "code",
   "execution_count": 20,
   "id": "c38c6960",
   "metadata": {},
   "outputs": [],
   "source": [
    "visitas['sesion_mes'] = visitas['start_ts'].dt.strftime('%Y-%m-01')\n",
    "visitas['sesion_semana'] = visitas['start_ts'].dt.isocalendar().week\n",
    "visitas['sesion_fecha'] = visitas['start_ts'].dt.date"
   ]
  },
  {
   "cell_type": "code",
   "execution_count": 21,
   "id": "5b740d5f",
   "metadata": {},
   "outputs": [
    {
     "data": {
      "text/html": [
       "<div>\n",
       "<style scoped>\n",
       "    .dataframe tbody tr th:only-of-type {\n",
       "        vertical-align: middle;\n",
       "    }\n",
       "\n",
       "    .dataframe tbody tr th {\n",
       "        vertical-align: top;\n",
       "    }\n",
       "\n",
       "    .dataframe thead th {\n",
       "        text-align: right;\n",
       "    }\n",
       "</style>\n",
       "<table border=\"1\" class=\"dataframe\">\n",
       "  <thead>\n",
       "    <tr style=\"text-align: right;\">\n",
       "      <th></th>\n",
       "      <th>device</th>\n",
       "      <th>end_ts</th>\n",
       "      <th>source_id</th>\n",
       "      <th>start_ts</th>\n",
       "      <th>uid</th>\n",
       "      <th>sesion_mes</th>\n",
       "      <th>sesion_semana</th>\n",
       "      <th>sesion_fecha</th>\n",
       "    </tr>\n",
       "  </thead>\n",
       "  <tbody>\n",
       "    <tr>\n",
       "      <th>0</th>\n",
       "      <td>touch</td>\n",
       "      <td>2017-12-20 17:38:00</td>\n",
       "      <td>4</td>\n",
       "      <td>2017-12-20 17:20:00</td>\n",
       "      <td>16879256277535980062</td>\n",
       "      <td>2017-12-01</td>\n",
       "      <td>51</td>\n",
       "      <td>2017-12-20</td>\n",
       "    </tr>\n",
       "    <tr>\n",
       "      <th>1</th>\n",
       "      <td>desktop</td>\n",
       "      <td>2018-02-19 17:21:00</td>\n",
       "      <td>2</td>\n",
       "      <td>2018-02-19 16:53:00</td>\n",
       "      <td>104060357244891740</td>\n",
       "      <td>2018-02-01</td>\n",
       "      <td>8</td>\n",
       "      <td>2018-02-19</td>\n",
       "    </tr>\n",
       "    <tr>\n",
       "      <th>2</th>\n",
       "      <td>touch</td>\n",
       "      <td>2017-07-01 01:54:00</td>\n",
       "      <td>5</td>\n",
       "      <td>2017-07-01 01:54:00</td>\n",
       "      <td>7459035603376831527</td>\n",
       "      <td>2017-07-01</td>\n",
       "      <td>26</td>\n",
       "      <td>2017-07-01</td>\n",
       "    </tr>\n",
       "    <tr>\n",
       "      <th>3</th>\n",
       "      <td>desktop</td>\n",
       "      <td>2018-05-20 11:23:00</td>\n",
       "      <td>9</td>\n",
       "      <td>2018-05-20 10:59:00</td>\n",
       "      <td>16174680259334210214</td>\n",
       "      <td>2018-05-01</td>\n",
       "      <td>20</td>\n",
       "      <td>2018-05-20</td>\n",
       "    </tr>\n",
       "    <tr>\n",
       "      <th>4</th>\n",
       "      <td>desktop</td>\n",
       "      <td>2017-12-27 14:06:00</td>\n",
       "      <td>3</td>\n",
       "      <td>2017-12-27 14:06:00</td>\n",
       "      <td>9969694820036681168</td>\n",
       "      <td>2017-12-01</td>\n",
       "      <td>52</td>\n",
       "      <td>2017-12-27</td>\n",
       "    </tr>\n",
       "  </tbody>\n",
       "</table>\n",
       "</div>"
      ],
      "text/plain": [
       "    device              end_ts source_id            start_ts  \\\n",
       "0    touch 2017-12-20 17:38:00         4 2017-12-20 17:20:00   \n",
       "1  desktop 2018-02-19 17:21:00         2 2018-02-19 16:53:00   \n",
       "2    touch 2017-07-01 01:54:00         5 2017-07-01 01:54:00   \n",
       "3  desktop 2018-05-20 11:23:00         9 2018-05-20 10:59:00   \n",
       "4  desktop 2017-12-27 14:06:00         3 2017-12-27 14:06:00   \n",
       "\n",
       "                    uid  sesion_mes  sesion_semana sesion_fecha  \n",
       "0  16879256277535980062  2017-12-01             51   2017-12-20  \n",
       "1    104060357244891740  2018-02-01              8   2018-02-19  \n",
       "2   7459035603376831527  2017-07-01             26   2017-07-01  \n",
       "3  16174680259334210214  2018-05-01             20   2018-05-20  \n",
       "4   9969694820036681168  2017-12-01             52   2017-12-27  "
      ]
     },
     "execution_count": 21,
     "metadata": {},
     "output_type": "execute_result"
    }
   ],
   "source": [
    "visitas.head()"
   ]
  },
  {
   "cell_type": "markdown",
   "id": "378955de",
   "metadata": {},
   "source": [
    "#### **Verificacion de duplicados y valores faltantes**"
   ]
  },
  {
   "cell_type": "code",
   "execution_count": 22,
   "id": "831f19af",
   "metadata": {},
   "outputs": [
    {
     "name": "stdout",
     "output_type": "stream",
     "text": [
      "--- VISITS ---\n",
      "Duplicados: 0\n",
      "Valores nulos:\n",
      "device           0\n",
      "end_ts           0\n",
      "source_id        0\n",
      "start_ts         0\n",
      "uid              0\n",
      "sesion_mes       0\n",
      "sesion_semana    0\n",
      "sesion_fecha     0\n",
      "dtype: int64\n",
      "\n",
      "\n",
      "--- ORDERS ---\n",
      "Duplicados: 0\n",
      "Valores nulos:\n",
      "buy_ts     0\n",
      "revenue    0\n",
      "uid        0\n",
      "dtype: int64\n",
      "\n",
      "\n",
      "--- COSTS ---\n",
      "Duplicados: 0\n",
      "Valores nulos:\n",
      "source_id    0\n",
      "costs        0\n",
      "date         0\n",
      "dtype: int64\n",
      "\n",
      "\n"
     ]
    }
   ],
   "source": [
    "def check_dup(df, nombre):\n",
    "    print(f\"--- {nombre} ---\")\n",
    "    print(f\"Duplicados: {df.duplicated().sum()}\")\n",
    "    print(f\"Valores nulos:\\n{df.isnull().sum()}\")\n",
    "    print(\"\\n\")\n",
    "\n",
    "#Revisamos nuevamente los duplicados\n",
    "check_dup(visitas, \"VISITS\")\n",
    "check_dup(ordenes, \"ORDERS\")\n",
    "check_dup(costos, \"COSTS\")\n"
   ]
  },
  {
   "cell_type": "markdown",
   "id": "b8a69869",
   "metadata": {},
   "source": [
    "No hay valores repetidos aun despues de la creacion de nuevas variables"
   ]
  },
  {
   "cell_type": "markdown",
   "id": "d44b232d",
   "metadata": {},
   "source": [
    "## **Feature Engineering**"
   ]
  },
  {
   "cell_type": "markdown",
   "id": "f9086ef3",
   "metadata": {},
   "source": [
    "### **Variables de comportamiento**"
   ]
  },
  {
   "cell_type": "markdown",
   "id": "02a18215",
   "metadata": {},
   "source": [
    "Ahora, procederemos a crear variables que puedan describir el comportamiento de los usuarios. En este caso:\n",
    "\n",
    "- Su nivel de actividad\n",
    "\n",
    "- Frecuencia y valor de compra\n",
    "\n",
    "- Retención y ciclo de vida\n",
    "\n",
    "- Origen de adquisición"
   ]
  },
  {
   "cell_type": "code",
   "execution_count": 23,
   "id": "aff016b2",
   "metadata": {},
   "outputs": [
    {
     "name": "stdout",
     "output_type": "stream",
     "text": [
      "    device              end_ts source_id            start_ts  \\\n",
      "0    touch 2017-12-20 17:38:00         4 2017-12-20 17:20:00   \n",
      "1  desktop 2018-02-19 17:21:00         2 2018-02-19 16:53:00   \n",
      "2    touch 2017-07-01 01:54:00         5 2017-07-01 01:54:00   \n",
      "3  desktop 2018-05-20 11:23:00         9 2018-05-20 10:59:00   \n",
      "4  desktop 2017-12-27 14:06:00         3 2017-12-27 14:06:00   \n",
      "\n",
      "                    uid  sesion_mes  sesion_semana sesion_fecha  \n",
      "0  16879256277535980062  2017-12-01             51   2017-12-20  \n",
      "1    104060357244891740  2018-02-01              8   2018-02-19  \n",
      "2   7459035603376831527  2017-07-01             26   2017-07-01  \n",
      "3  16174680259334210214  2018-05-01             20   2018-05-20  \n",
      "4   9969694820036681168  2017-12-01             52   2017-12-27  \n",
      "               buy_ts  revenue                   uid  order_count  \\\n",
      "0 2017-06-01 00:10:00    17.00  10329302124590727494          NaN   \n",
      "1 2017-06-01 00:25:00     0.55  11627257723692907447          NaN   \n",
      "2 2017-06-01 00:27:00     0.37  17903680561304213844          NaN   \n",
      "3 2017-06-01 00:29:00     0.55  16109239769442553005          NaN   \n",
      "4 2017-06-01 07:58:00     0.37  14200605875248379450          NaN   \n",
      "\n",
      "  registration_month source_id  \n",
      "0            2017-06         1  \n",
      "1            2017-06         2  \n",
      "2            2017-06         2  \n",
      "3            2017-06         2  \n",
      "4            2017-06         3  \n"
     ]
    }
   ],
   "source": [
    "# Calcular fecha de primera y última compra\n",
    "first_purchase = ordenes.groupby(\"uid\")[\"buy_ts\"].min().rename(\"first_purchase\")\n",
    "last_purchase = ordenes.groupby(\"uid\")[\"buy_ts\"].max().rename(\"last_purchase\")\n",
    "\n",
    "active_days = (last_purchase - first_purchase).dt.days + 1 # Calcular duración en días del período de compras \n",
    "                                                        # (sumamos 1 para evitar división por cero)\n",
    "\n",
    "\n",
    "order_count = ordenes.groupby('uid')['buy_ts'].count().rename(\"order_count\") #Numero de ordenes por usuario\n",
    "ordenes['order_count'] = order_count\n",
    "\n",
    "ordenes['registration_month'] = ordenes['buy_ts'].dt.to_period('M') # Promedio\n",
    "\n",
    "pedidos_por_mes = ordenes.groupby('registration_month')['order_count'].mean()\n",
    "\n",
    "# Calcular frecuencia de compra (órdenes por día activo)\n",
    "purchase_frequency = (order_count / active_days).rename(\"purchase_frequency\")\n",
    "\n",
    "#Retención simple: días entre primera y última compra\n",
    "ordenes[\"buy_ts\"] = pd.to_datetime(ordenes[\"buy_ts\"])\n",
    "retention_days = (last_purchase - first_purchase).dt.days.rename(\"retention_days\")\n",
    "\n",
    "sessions_per_day = visitas.groupby('sesion_fecha').size() # Sesiones por dia\n",
    "\n",
    "total_revenue = ordenes.groupby(\"uid\")[\"revenue\"].sum().rename(\"total_revenue\")\n",
    "\n",
    "# AVERAGE ORDER VALUE\n",
    "aov = (total_revenue / order_count).rename(\"aov\")\n",
    "visitas['sesion_fecha'] = pd.to_datetime(visitas['sesion_fecha'])\n",
    "print(visitas.head())\n",
    "source_por_uid = visitas.sort_values(by='sesion_fecha').groupby('uid')['source_id'].first().reset_index()\n",
    "ordenes = ordenes.merge(source_por_uid, on='uid', how='left')\n",
    "\n",
    "print(ordenes.head())"
   ]
  },
  {
   "cell_type": "code",
   "execution_count": 24,
   "id": "edce829c",
   "metadata": {},
   "outputs": [
    {
     "name": "stdout",
     "output_type": "stream",
     "text": [
      "               buy_ts  revenue                   uid  order_count  \\\n",
      "0 2017-06-01 00:10:00    17.00  10329302124590727494          NaN   \n",
      "1 2017-06-01 00:25:00     0.55  11627257723692907447          NaN   \n",
      "2 2017-06-01 00:27:00     0.37  17903680561304213844          NaN   \n",
      "3 2017-06-01 00:29:00     0.55  16109239769442553005          NaN   \n",
      "4 2017-06-01 07:58:00     0.37  14200605875248379450          NaN   \n",
      "\n",
      "  registration_month source_id  total_revenue    aov      first_purchase  \\\n",
      "0            2017-06         1          17.00  17.00 2017-06-01 00:10:00   \n",
      "1            2017-06         2           0.55   0.55 2017-06-01 00:25:00   \n",
      "2            2017-06         2           0.37   0.37 2017-06-01 00:27:00   \n",
      "3            2017-06         2           0.55   0.55 2017-06-01 00:29:00   \n",
      "4            2017-06         3           0.37   0.37 2017-06-01 07:58:00   \n",
      "\n",
      "        last_purchase  0  purchase_frequency  \n",
      "0 2017-06-01 00:10:00  1                 1.0  \n",
      "1 2017-06-01 00:25:00  1                 1.0  \n",
      "2 2017-06-01 00:27:00  1                 1.0  \n",
      "3 2017-06-01 00:29:00  1                 1.0  \n",
      "4 2017-06-01 07:58:00  1                 1.0  \n"
     ]
    }
   ],
   "source": [
    "features = pd.concat([\n",
    "    total_revenue, \n",
    "    aov, \n",
    "    first_purchase, \n",
    "    last_purchase, \n",
    "    active_days, \n",
    "    purchase_frequency\n",
    "], axis=1).reset_index()\n",
    "\n",
    "# Hacer merge con el DataFrame original\n",
    "ordenes = ordenes.merge(features, on=\"uid\", how=\"left\")\n",
    "\n",
    "# Mostrar resultado\n",
    "print(ordenes.head())\n"
   ]
  },
  {
   "cell_type": "markdown",
   "id": "a950daf8",
   "metadata": {},
   "source": [
    "Usuarios con una sola orden tienen:\n",
    "\n",
    "    - aov igual a su único revenue\n",
    "\n",
    "    - first_purchase == last_purchase\n",
    "\n",
    "    - purchase_frequency = 1 / 1 día activo = 1.0"
   ]
  },
  {
   "cell_type": "markdown",
   "id": "b20b26bb",
   "metadata": {},
   "source": [
    "##### **Tendencia de gasto**\n",
    "Modelamos cómo evoluciona el gasto a lo largo del tiempo por usuario."
   ]
  },
  {
   "cell_type": "code",
   "execution_count": 25,
   "id": "2b3cea01",
   "metadata": {},
   "outputs": [
    {
     "name": "stderr",
     "output_type": "stream",
     "text": [
      "/tmp/ipykernel_4048/2053913414.py:14: DeprecationWarning: DataFrameGroupBy.apply operated on the grouping columns. This behavior is deprecated, and in a future version of pandas the grouping columns will be excluded from the operation. Either pass `include_groups=False` to exclude the groupings or explicitly select the grouping columns after groupby to silence this warning.\n",
      "  slope_by_user = ordenes.groupby('uid', group_keys=False).apply(gasto_slope).rename(\"gasto_slope\").reset_index()\n"
     ]
    },
    {
     "name": "stdout",
     "output_type": "stream",
     "text": [
      "                    uid              buy_ts  revenue  gasto_slope\n",
      "0  10329302124590727494 2017-06-01 00:10:00    17.00          0.0\n",
      "1  11627257723692907447 2017-06-01 00:25:00     0.55          0.0\n",
      "2  17903680561304213844 2017-06-01 00:27:00     0.37          0.0\n",
      "3  16109239769442553005 2017-06-01 00:29:00     0.55          0.0\n",
      "4  14200605875248379450 2017-06-01 07:58:00     0.37          0.0\n"
     ]
    },
    {
     "name": "stderr",
     "output_type": "stream",
     "text": [
      "/tmp/ipykernel_4048/2053913414.py:20: DeprecationWarning: DataFrameGroupBy.apply operated on the grouping columns. This behavior is deprecated, and in a future version of pandas the grouping columns will be excluded from the operation. Either pass `include_groups=False` to exclude the groupings or explicitly select the grouping columns after groupby to silence this warning.\n",
      "  slope_by_user = ordenes.groupby('uid').apply(gasto_slope).rename('gasto_slope')\n"
     ]
    }
   ],
   "source": [
    "from sklearn.linear_model import LinearRegression\n",
    "# Tendencia de gasto\n",
    "def gasto_slope(df):\n",
    "    df = df.sort_values('buy_ts')\n",
    "    df['days'] = (df['buy_ts'] - df['buy_ts'].min()).dt.days\n",
    "    if len(df) < 2:\n",
    "        return 0.0\n",
    "    X = df[['days']]\n",
    "    y = df['revenue']\n",
    "    model = LinearRegression().fit(X, y)\n",
    "    return model.coef_[0]\n",
    "\n",
    "# Calcular la pendiente por uid\n",
    "slope_by_user = ordenes.groupby('uid', group_keys=False).apply(gasto_slope).rename(\"gasto_slope\").reset_index()\n",
    "\n",
    "ordenes = ordenes.merge(slope_by_user, on='uid', how='left')\n",
    "ordenes.head()\n",
    "print(ordenes[['uid', 'buy_ts', 'revenue', 'gasto_slope']].head())\n",
    "\n",
    "slope_by_user = ordenes.groupby('uid').apply(gasto_slope).rename('gasto_slope')"
   ]
  },
  {
   "cell_type": "markdown",
   "id": "cb04ed14",
   "metadata": {},
   "source": [
    "##### **Abandono o retención**\n",
    "Creamos un índice que indica si un usuario ha dejado de realizar compras en los últimos 90 días, usando la columna *last_purchase*."
   ]
  },
  {
   "cell_type": "code",
   "execution_count": 26,
   "id": "35ec5300",
   "metadata": {},
   "outputs": [
    {
     "name": "stdout",
     "output_type": "stream",
     "text": [
      "               buy_ts  revenue                   uid  order_count  \\\n",
      "0 2017-06-01 00:10:00    17.00  10329302124590727494          NaN   \n",
      "1 2017-06-01 00:25:00     0.55  11627257723692907447          NaN   \n",
      "2 2017-06-01 00:27:00     0.37  17903680561304213844          NaN   \n",
      "3 2017-06-01 00:29:00     0.55  16109239769442553005          NaN   \n",
      "4 2017-06-01 07:58:00     0.37  14200605875248379450          NaN   \n",
      "\n",
      "  registration_month source_id  total_revenue    aov      first_purchase  \\\n",
      "0            2017-06         1          17.00  17.00 2017-06-01 00:10:00   \n",
      "1            2017-06         2           0.55   0.55 2017-06-01 00:25:00   \n",
      "2            2017-06         2           0.37   0.37 2017-06-01 00:27:00   \n",
      "3            2017-06         2           0.55   0.55 2017-06-01 00:29:00   \n",
      "4            2017-06         3           0.37   0.37 2017-06-01 07:58:00   \n",
      "\n",
      "        last_purchase  0  purchase_frequency  gasto_slope  abandono_flag  \n",
      "0 2017-06-01 00:10:00  1                 1.0          0.0              1  \n",
      "1 2017-06-01 00:25:00  1                 1.0          0.0              1  \n",
      "2 2017-06-01 00:27:00  1                 1.0          0.0              1  \n",
      "3 2017-06-01 00:29:00  1                 1.0          0.0              1  \n",
      "4 2017-06-01 07:58:00  1                 1.0          0.0              1  \n"
     ]
    }
   ],
   "source": [
    "cutoff_date = ordenes['last_purchase'].max() - pd.Timedelta(days=90)\n",
    "\n",
    "# Calculamos el abandono: 1 si la última compra es antes del cutoff_date, 0 si es después\n",
    "abandono = (ordenes['last_purchase'] < cutoff_date).astype(int)\n",
    "\n",
    "# Asignamos el nombre de la nueva columna\n",
    "ordenes['abandono_flag'] = abandono\n",
    "print(ordenes.head())\n"
   ]
  },
  {
   "cell_type": "markdown",
   "id": "91e19593",
   "metadata": {},
   "source": [
    "*abandono_flag*: Esta columna es clave para identificar a los usuarios que han abandonado la plataforma."
   ]
  },
  {
   "cell_type": "markdown",
   "id": "4d826f14",
   "metadata": {},
   "source": [
    "##### **Días desde última compra**\n",
    "Calculamos una nueva variable llamada *dias_sin_comprar* indicando cuántos días han pasado desde la última compra de cada usuario."
   ]
  },
  {
   "cell_type": "code",
   "execution_count": 27,
   "id": "056c0d73",
   "metadata": {},
   "outputs": [
    {
     "name": "stdout",
     "output_type": "stream",
     "text": [
      "                    uid  dias_sin_comprar\n",
      "0  10329302124590727494               364\n",
      "1  11627257723692907447               364\n",
      "2  17903680561304213844               364\n",
      "3  16109239769442553005               364\n",
      "4  14200605875248379450               364\n"
     ]
    }
   ],
   "source": [
    "dias_sin_comprar = (ordenes['last_purchase'].max() - ordenes['last_purchase']).dt.days\n",
    "\n",
    "ordenes['dias_sin_comprar'] = dias_sin_comprar\n",
    "\n",
    "print(ordenes[['uid', 'dias_sin_comprar']].head())"
   ]
  },
  {
   "cell_type": "markdown",
   "id": "6af6886d",
   "metadata": {},
   "source": [
    "#### **Variables estacionales**\n",
    "Ahora calculamos el mes de la primera comprar para cada usuario en el dataset."
   ]
  },
  {
   "cell_type": "code",
   "execution_count": 28,
   "id": "9c91aa46",
   "metadata": {},
   "outputs": [
    {
     "data": {
      "text/html": [
       "<div>\n",
       "<style scoped>\n",
       "    .dataframe tbody tr th:only-of-type {\n",
       "        vertical-align: middle;\n",
       "    }\n",
       "\n",
       "    .dataframe tbody tr th {\n",
       "        vertical-align: top;\n",
       "    }\n",
       "\n",
       "    .dataframe thead th {\n",
       "        text-align: right;\n",
       "    }\n",
       "</style>\n",
       "<table border=\"1\" class=\"dataframe\">\n",
       "  <thead>\n",
       "    <tr style=\"text-align: right;\">\n",
       "      <th></th>\n",
       "      <th>device</th>\n",
       "      <th>end_ts</th>\n",
       "      <th>source_id</th>\n",
       "      <th>start_ts</th>\n",
       "      <th>uid</th>\n",
       "      <th>sesion_mes</th>\n",
       "      <th>sesion_semana</th>\n",
       "      <th>sesion_fecha</th>\n",
       "    </tr>\n",
       "  </thead>\n",
       "  <tbody>\n",
       "    <tr>\n",
       "      <th>0</th>\n",
       "      <td>touch</td>\n",
       "      <td>2017-12-20 17:38:00</td>\n",
       "      <td>4</td>\n",
       "      <td>2017-12-20 17:20:00</td>\n",
       "      <td>16879256277535980062</td>\n",
       "      <td>2017-12-01</td>\n",
       "      <td>51</td>\n",
       "      <td>2017-12-20</td>\n",
       "    </tr>\n",
       "    <tr>\n",
       "      <th>1</th>\n",
       "      <td>desktop</td>\n",
       "      <td>2018-02-19 17:21:00</td>\n",
       "      <td>2</td>\n",
       "      <td>2018-02-19 16:53:00</td>\n",
       "      <td>104060357244891740</td>\n",
       "      <td>2018-02-01</td>\n",
       "      <td>8</td>\n",
       "      <td>2018-02-19</td>\n",
       "    </tr>\n",
       "    <tr>\n",
       "      <th>2</th>\n",
       "      <td>touch</td>\n",
       "      <td>2017-07-01 01:54:00</td>\n",
       "      <td>5</td>\n",
       "      <td>2017-07-01 01:54:00</td>\n",
       "      <td>7459035603376831527</td>\n",
       "      <td>2017-07-01</td>\n",
       "      <td>26</td>\n",
       "      <td>2017-07-01</td>\n",
       "    </tr>\n",
       "    <tr>\n",
       "      <th>3</th>\n",
       "      <td>desktop</td>\n",
       "      <td>2018-05-20 11:23:00</td>\n",
       "      <td>9</td>\n",
       "      <td>2018-05-20 10:59:00</td>\n",
       "      <td>16174680259334210214</td>\n",
       "      <td>2018-05-01</td>\n",
       "      <td>20</td>\n",
       "      <td>2018-05-20</td>\n",
       "    </tr>\n",
       "    <tr>\n",
       "      <th>4</th>\n",
       "      <td>desktop</td>\n",
       "      <td>2017-12-27 14:06:00</td>\n",
       "      <td>3</td>\n",
       "      <td>2017-12-27 14:06:00</td>\n",
       "      <td>9969694820036681168</td>\n",
       "      <td>2017-12-01</td>\n",
       "      <td>52</td>\n",
       "      <td>2017-12-27</td>\n",
       "    </tr>\n",
       "    <tr>\n",
       "      <th>5</th>\n",
       "      <td>desktop</td>\n",
       "      <td>2017-09-03 21:36:00</td>\n",
       "      <td>5</td>\n",
       "      <td>2017-09-03 21:35:00</td>\n",
       "      <td>16007536194108375387</td>\n",
       "      <td>2017-09-01</td>\n",
       "      <td>35</td>\n",
       "      <td>2017-09-03</td>\n",
       "    </tr>\n",
       "    <tr>\n",
       "      <th>6</th>\n",
       "      <td>desktop</td>\n",
       "      <td>2018-01-30 12:09:00</td>\n",
       "      <td>1</td>\n",
       "      <td>2018-01-30 11:13:00</td>\n",
       "      <td>6661610529277171451</td>\n",
       "      <td>2018-01-01</td>\n",
       "      <td>5</td>\n",
       "      <td>2018-01-30</td>\n",
       "    </tr>\n",
       "    <tr>\n",
       "      <th>7</th>\n",
       "      <td>touch</td>\n",
       "      <td>2017-11-05 15:15:00</td>\n",
       "      <td>3</td>\n",
       "      <td>2017-11-05 15:14:00</td>\n",
       "      <td>11423865690854540312</td>\n",
       "      <td>2017-11-01</td>\n",
       "      <td>44</td>\n",
       "      <td>2017-11-05</td>\n",
       "    </tr>\n",
       "    <tr>\n",
       "      <th>8</th>\n",
       "      <td>desktop</td>\n",
       "      <td>2017-07-19 10:44:00</td>\n",
       "      <td>3</td>\n",
       "      <td>2017-07-19 10:41:00</td>\n",
       "      <td>2987360259350925644</td>\n",
       "      <td>2017-07-01</td>\n",
       "      <td>29</td>\n",
       "      <td>2017-07-19</td>\n",
       "    </tr>\n",
       "    <tr>\n",
       "      <th>9</th>\n",
       "      <td>desktop</td>\n",
       "      <td>2017-11-08 13:43:00</td>\n",
       "      <td>5</td>\n",
       "      <td>2017-11-08 13:42:00</td>\n",
       "      <td>1289240080042562063</td>\n",
       "      <td>2017-11-01</td>\n",
       "      <td>45</td>\n",
       "      <td>2017-11-08</td>\n",
       "    </tr>\n",
       "  </tbody>\n",
       "</table>\n",
       "</div>"
      ],
      "text/plain": [
       "    device              end_ts source_id            start_ts  \\\n",
       "0    touch 2017-12-20 17:38:00         4 2017-12-20 17:20:00   \n",
       "1  desktop 2018-02-19 17:21:00         2 2018-02-19 16:53:00   \n",
       "2    touch 2017-07-01 01:54:00         5 2017-07-01 01:54:00   \n",
       "3  desktop 2018-05-20 11:23:00         9 2018-05-20 10:59:00   \n",
       "4  desktop 2017-12-27 14:06:00         3 2017-12-27 14:06:00   \n",
       "5  desktop 2017-09-03 21:36:00         5 2017-09-03 21:35:00   \n",
       "6  desktop 2018-01-30 12:09:00         1 2018-01-30 11:13:00   \n",
       "7    touch 2017-11-05 15:15:00         3 2017-11-05 15:14:00   \n",
       "8  desktop 2017-07-19 10:44:00         3 2017-07-19 10:41:00   \n",
       "9  desktop 2017-11-08 13:43:00         5 2017-11-08 13:42:00   \n",
       "\n",
       "                    uid  sesion_mes  sesion_semana sesion_fecha  \n",
       "0  16879256277535980062  2017-12-01             51   2017-12-20  \n",
       "1    104060357244891740  2018-02-01              8   2018-02-19  \n",
       "2   7459035603376831527  2017-07-01             26   2017-07-01  \n",
       "3  16174680259334210214  2018-05-01             20   2018-05-20  \n",
       "4   9969694820036681168  2017-12-01             52   2017-12-27  \n",
       "5  16007536194108375387  2017-09-01             35   2017-09-03  \n",
       "6   6661610529277171451  2018-01-01              5   2018-01-30  \n",
       "7  11423865690854540312  2017-11-01             44   2017-11-05  \n",
       "8   2987360259350925644  2017-07-01             29   2017-07-19  \n",
       "9   1289240080042562063  2017-11-01             45   2017-11-08  "
      ]
     },
     "execution_count": 28,
     "metadata": {},
     "output_type": "execute_result"
    }
   ],
   "source": [
    "# Mes de la primera compra\n",
    "ordenes['mes_primera_compra'] = ordenes.groupby('uid')['first_purchase'].transform(lambda x: x.dt.month)\n",
    "visitas.head(10)"
   ]
  },
  {
   "cell_type": "markdown",
   "id": "e9860ca0",
   "metadata": {},
   "source": [
    "Ahora hechamos un vistazo a las variables generadas"
   ]
  },
  {
   "cell_type": "code",
   "execution_count": 29,
   "id": "276c9cb6",
   "metadata": {},
   "outputs": [
    {
     "data": {
      "text/html": [
       "<div>\n",
       "<style scoped>\n",
       "    .dataframe tbody tr th:only-of-type {\n",
       "        vertical-align: middle;\n",
       "    }\n",
       "\n",
       "    .dataframe tbody tr th {\n",
       "        vertical-align: top;\n",
       "    }\n",
       "\n",
       "    .dataframe thead th {\n",
       "        text-align: right;\n",
       "    }\n",
       "</style>\n",
       "<table border=\"1\" class=\"dataframe\">\n",
       "  <thead>\n",
       "    <tr style=\"text-align: right;\">\n",
       "      <th></th>\n",
       "      <th>buy_ts</th>\n",
       "      <th>revenue</th>\n",
       "      <th>uid</th>\n",
       "      <th>order_count</th>\n",
       "      <th>registration_month</th>\n",
       "      <th>source_id</th>\n",
       "      <th>total_revenue</th>\n",
       "      <th>aov</th>\n",
       "      <th>first_purchase</th>\n",
       "      <th>last_purchase</th>\n",
       "      <th>0</th>\n",
       "      <th>purchase_frequency</th>\n",
       "      <th>gasto_slope</th>\n",
       "      <th>abandono_flag</th>\n",
       "      <th>dias_sin_comprar</th>\n",
       "      <th>mes_primera_compra</th>\n",
       "    </tr>\n",
       "  </thead>\n",
       "  <tbody>\n",
       "    <tr>\n",
       "      <th>0</th>\n",
       "      <td>2017-06-01 00:10:00</td>\n",
       "      <td>17.00</td>\n",
       "      <td>10329302124590727494</td>\n",
       "      <td>NaN</td>\n",
       "      <td>2017-06</td>\n",
       "      <td>1</td>\n",
       "      <td>17.00</td>\n",
       "      <td>17.000000</td>\n",
       "      <td>2017-06-01 00:10:00</td>\n",
       "      <td>2017-06-01 00:10:00</td>\n",
       "      <td>1</td>\n",
       "      <td>1.000000</td>\n",
       "      <td>0.00000</td>\n",
       "      <td>1</td>\n",
       "      <td>364</td>\n",
       "      <td>6</td>\n",
       "    </tr>\n",
       "    <tr>\n",
       "      <th>1</th>\n",
       "      <td>2017-06-01 00:25:00</td>\n",
       "      <td>0.55</td>\n",
       "      <td>11627257723692907447</td>\n",
       "      <td>NaN</td>\n",
       "      <td>2017-06</td>\n",
       "      <td>2</td>\n",
       "      <td>0.55</td>\n",
       "      <td>0.550000</td>\n",
       "      <td>2017-06-01 00:25:00</td>\n",
       "      <td>2017-06-01 00:25:00</td>\n",
       "      <td>1</td>\n",
       "      <td>1.000000</td>\n",
       "      <td>0.00000</td>\n",
       "      <td>1</td>\n",
       "      <td>364</td>\n",
       "      <td>6</td>\n",
       "    </tr>\n",
       "    <tr>\n",
       "      <th>2</th>\n",
       "      <td>2017-06-01 00:27:00</td>\n",
       "      <td>0.37</td>\n",
       "      <td>17903680561304213844</td>\n",
       "      <td>NaN</td>\n",
       "      <td>2017-06</td>\n",
       "      <td>2</td>\n",
       "      <td>0.37</td>\n",
       "      <td>0.370000</td>\n",
       "      <td>2017-06-01 00:27:00</td>\n",
       "      <td>2017-06-01 00:27:00</td>\n",
       "      <td>1</td>\n",
       "      <td>1.000000</td>\n",
       "      <td>0.00000</td>\n",
       "      <td>1</td>\n",
       "      <td>364</td>\n",
       "      <td>6</td>\n",
       "    </tr>\n",
       "    <tr>\n",
       "      <th>3</th>\n",
       "      <td>2017-06-01 00:29:00</td>\n",
       "      <td>0.55</td>\n",
       "      <td>16109239769442553005</td>\n",
       "      <td>NaN</td>\n",
       "      <td>2017-06</td>\n",
       "      <td>2</td>\n",
       "      <td>0.55</td>\n",
       "      <td>0.550000</td>\n",
       "      <td>2017-06-01 00:29:00</td>\n",
       "      <td>2017-06-01 00:29:00</td>\n",
       "      <td>1</td>\n",
       "      <td>1.000000</td>\n",
       "      <td>0.00000</td>\n",
       "      <td>1</td>\n",
       "      <td>364</td>\n",
       "      <td>6</td>\n",
       "    </tr>\n",
       "    <tr>\n",
       "      <th>4</th>\n",
       "      <td>2017-06-01 07:58:00</td>\n",
       "      <td>0.37</td>\n",
       "      <td>14200605875248379450</td>\n",
       "      <td>NaN</td>\n",
       "      <td>2017-06</td>\n",
       "      <td>3</td>\n",
       "      <td>0.37</td>\n",
       "      <td>0.370000</td>\n",
       "      <td>2017-06-01 07:58:00</td>\n",
       "      <td>2017-06-01 07:58:00</td>\n",
       "      <td>1</td>\n",
       "      <td>1.000000</td>\n",
       "      <td>0.00000</td>\n",
       "      <td>1</td>\n",
       "      <td>364</td>\n",
       "      <td>6</td>\n",
       "    </tr>\n",
       "    <tr>\n",
       "      <th>5</th>\n",
       "      <td>2017-06-01 08:43:00</td>\n",
       "      <td>0.18</td>\n",
       "      <td>10402394430196413321</td>\n",
       "      <td>NaN</td>\n",
       "      <td>2017-06</td>\n",
       "      <td>3</td>\n",
       "      <td>0.18</td>\n",
       "      <td>0.180000</td>\n",
       "      <td>2017-06-01 08:43:00</td>\n",
       "      <td>2017-06-01 08:43:00</td>\n",
       "      <td>1</td>\n",
       "      <td>1.000000</td>\n",
       "      <td>0.00000</td>\n",
       "      <td>1</td>\n",
       "      <td>364</td>\n",
       "      <td>6</td>\n",
       "    </tr>\n",
       "    <tr>\n",
       "      <th>6</th>\n",
       "      <td>2017-06-01 08:54:00</td>\n",
       "      <td>1.83</td>\n",
       "      <td>12464626743129688638</td>\n",
       "      <td>NaN</td>\n",
       "      <td>2017-06</td>\n",
       "      <td>5</td>\n",
       "      <td>9.16</td>\n",
       "      <td>4.580000</td>\n",
       "      <td>2017-06-01 08:54:00</td>\n",
       "      <td>2017-06-05 14:30:00</td>\n",
       "      <td>5</td>\n",
       "      <td>0.400000</td>\n",
       "      <td>1.37500</td>\n",
       "      <td>1</td>\n",
       "      <td>360</td>\n",
       "      <td>6</td>\n",
       "    </tr>\n",
       "    <tr>\n",
       "      <th>7</th>\n",
       "      <td>2017-06-01 09:22:00</td>\n",
       "      <td>1.22</td>\n",
       "      <td>3644482766749211722</td>\n",
       "      <td>NaN</td>\n",
       "      <td>2017-06</td>\n",
       "      <td>5</td>\n",
       "      <td>1444.29</td>\n",
       "      <td>6.043054</td>\n",
       "      <td>2017-06-01 09:22:00</td>\n",
       "      <td>2018-05-13 18:28:00</td>\n",
       "      <td>347</td>\n",
       "      <td>0.688761</td>\n",
       "      <td>-0.00087</td>\n",
       "      <td>0</td>\n",
       "      <td>18</td>\n",
       "      <td>6</td>\n",
       "    </tr>\n",
       "    <tr>\n",
       "      <th>8</th>\n",
       "      <td>2017-06-01 09:22:00</td>\n",
       "      <td>3.30</td>\n",
       "      <td>17542070709969841479</td>\n",
       "      <td>NaN</td>\n",
       "      <td>2017-06</td>\n",
       "      <td>4</td>\n",
       "      <td>3.30</td>\n",
       "      <td>3.300000</td>\n",
       "      <td>2017-06-01 09:22:00</td>\n",
       "      <td>2017-06-01 09:22:00</td>\n",
       "      <td>1</td>\n",
       "      <td>1.000000</td>\n",
       "      <td>0.00000</td>\n",
       "      <td>1</td>\n",
       "      <td>364</td>\n",
       "      <td>6</td>\n",
       "    </tr>\n",
       "    <tr>\n",
       "      <th>9</th>\n",
       "      <td>2017-06-01 09:23:00</td>\n",
       "      <td>0.37</td>\n",
       "      <td>1074355127080856382</td>\n",
       "      <td>NaN</td>\n",
       "      <td>2017-06</td>\n",
       "      <td>1</td>\n",
       "      <td>0.37</td>\n",
       "      <td>0.370000</td>\n",
       "      <td>2017-06-01 09:23:00</td>\n",
       "      <td>2017-06-01 09:23:00</td>\n",
       "      <td>1</td>\n",
       "      <td>1.000000</td>\n",
       "      <td>0.00000</td>\n",
       "      <td>1</td>\n",
       "      <td>364</td>\n",
       "      <td>6</td>\n",
       "    </tr>\n",
       "  </tbody>\n",
       "</table>\n",
       "</div>"
      ],
      "text/plain": [
       "               buy_ts  revenue                   uid  order_count  \\\n",
       "0 2017-06-01 00:10:00    17.00  10329302124590727494          NaN   \n",
       "1 2017-06-01 00:25:00     0.55  11627257723692907447          NaN   \n",
       "2 2017-06-01 00:27:00     0.37  17903680561304213844          NaN   \n",
       "3 2017-06-01 00:29:00     0.55  16109239769442553005          NaN   \n",
       "4 2017-06-01 07:58:00     0.37  14200605875248379450          NaN   \n",
       "5 2017-06-01 08:43:00     0.18  10402394430196413321          NaN   \n",
       "6 2017-06-01 08:54:00     1.83  12464626743129688638          NaN   \n",
       "7 2017-06-01 09:22:00     1.22   3644482766749211722          NaN   \n",
       "8 2017-06-01 09:22:00     3.30  17542070709969841479          NaN   \n",
       "9 2017-06-01 09:23:00     0.37   1074355127080856382          NaN   \n",
       "\n",
       "  registration_month source_id  total_revenue        aov      first_purchase  \\\n",
       "0            2017-06         1          17.00  17.000000 2017-06-01 00:10:00   \n",
       "1            2017-06         2           0.55   0.550000 2017-06-01 00:25:00   \n",
       "2            2017-06         2           0.37   0.370000 2017-06-01 00:27:00   \n",
       "3            2017-06         2           0.55   0.550000 2017-06-01 00:29:00   \n",
       "4            2017-06         3           0.37   0.370000 2017-06-01 07:58:00   \n",
       "5            2017-06         3           0.18   0.180000 2017-06-01 08:43:00   \n",
       "6            2017-06         5           9.16   4.580000 2017-06-01 08:54:00   \n",
       "7            2017-06         5        1444.29   6.043054 2017-06-01 09:22:00   \n",
       "8            2017-06         4           3.30   3.300000 2017-06-01 09:22:00   \n",
       "9            2017-06         1           0.37   0.370000 2017-06-01 09:23:00   \n",
       "\n",
       "        last_purchase    0  purchase_frequency  gasto_slope  abandono_flag  \\\n",
       "0 2017-06-01 00:10:00    1            1.000000      0.00000              1   \n",
       "1 2017-06-01 00:25:00    1            1.000000      0.00000              1   \n",
       "2 2017-06-01 00:27:00    1            1.000000      0.00000              1   \n",
       "3 2017-06-01 00:29:00    1            1.000000      0.00000              1   \n",
       "4 2017-06-01 07:58:00    1            1.000000      0.00000              1   \n",
       "5 2017-06-01 08:43:00    1            1.000000      0.00000              1   \n",
       "6 2017-06-05 14:30:00    5            0.400000      1.37500              1   \n",
       "7 2018-05-13 18:28:00  347            0.688761     -0.00087              0   \n",
       "8 2017-06-01 09:22:00    1            1.000000      0.00000              1   \n",
       "9 2017-06-01 09:23:00    1            1.000000      0.00000              1   \n",
       "\n",
       "   dias_sin_comprar  mes_primera_compra  \n",
       "0               364                   6  \n",
       "1               364                   6  \n",
       "2               364                   6  \n",
       "3               364                   6  \n",
       "4               364                   6  \n",
       "5               364                   6  \n",
       "6               360                   6  \n",
       "7                18                   6  \n",
       "8               364                   6  \n",
       "9               364                   6  "
      ]
     },
     "execution_count": 29,
     "metadata": {},
     "output_type": "execute_result"
    }
   ],
   "source": [
    "ordenes.head(10)"
   ]
  },
  {
   "cell_type": "markdown",
   "id": "be6722cf",
   "metadata": {},
   "source": [
    "#### **Variables de Marketing**"
   ]
  },
  {
   "cell_type": "markdown",
   "id": "24178c37",
   "metadata": {},
   "source": [
    "Se agregan dos nuevas columnas a tu DataFrame visitas: una para el día de la semanay otra para la estación del año, todo esto según el mes de la fecha de la sesión."
   ]
  },
  {
   "cell_type": "code",
   "execution_count": 30,
   "id": "99abe960",
   "metadata": {},
   "outputs": [],
   "source": [
    "visitas['sesion_fecha'] = pd.to_datetime(visitas['sesion_fecha'], errors='coerce')\n",
    "\n",
    "visitas['weekday'] = visitas['sesion_fecha'].dt.day_name()\n",
    "# Día de la semana\n",
    "visitas['weekday'] = visitas['sesion_fecha'].dt.day_name()\n",
    "\n",
    "# Estación del año según el mes\n",
    "visitas['season'] = visitas['sesion_fecha'].dt.month.map({\n",
    "    12: 'winter', 1: 'winter', 2: 'winter',\n",
    "    3: 'spring', 4: 'spring', 5: 'spring',\n",
    "    6: 'summer', 7: 'summer', 8: 'summer',\n",
    "    9: 'autumn', 10: 'autumn', 11: 'autumn'\n",
    "})"
   ]
  },
  {
   "cell_type": "markdown",
   "id": "baa20c35",
   "metadata": {},
   "source": [
    "Ahora calculamos el número de usuarios por: día, semana y mes."
   ]
  },
  {
   "cell_type": "code",
   "execution_count": 31,
   "id": "09a76527",
   "metadata": {},
   "outputs": [],
   "source": [
    "dau = visitas.groupby('sesion_fecha').agg({'uid': 'nunique'})\n",
    "wau = visitas.groupby('sesion_semana').agg({'uid': 'nunique'})\n",
    "mau = visitas.groupby('sesion_mes').agg({'uid': 'nunique'})"
   ]
  },
  {
   "cell_type": "markdown",
   "id": "c4feb755",
   "metadata": {},
   "source": [
    "Por último, calculamos el total de sesiones registradas ese día y la cantidad de usuarios únicos que tuvieron al menos una sesión."
   ]
  },
  {
   "cell_type": "code",
   "execution_count": 32,
   "id": "5265b207",
   "metadata": {},
   "outputs": [],
   "source": [
    "#Sesiones por usuario\n",
    "sesiones_por_usuario = visitas.groupby('sesion_fecha').agg({'uid': ['count', 'nunique']})\n",
    "sesiones_por_usuario.columns = ['n_sesiones', 'n_usuarios']"
   ]
  },
  {
   "cell_type": "markdown",
   "id": "84793562",
   "metadata": {},
   "source": [
    "Ahora hechamos un vistazo a las variables generadas:"
   ]
  },
  {
   "cell_type": "code",
   "execution_count": 33,
   "id": "890f42e1",
   "metadata": {},
   "outputs": [
    {
     "data": {
      "text/html": [
       "<div>\n",
       "<style scoped>\n",
       "    .dataframe tbody tr th:only-of-type {\n",
       "        vertical-align: middle;\n",
       "    }\n",
       "\n",
       "    .dataframe tbody tr th {\n",
       "        vertical-align: top;\n",
       "    }\n",
       "\n",
       "    .dataframe thead th {\n",
       "        text-align: right;\n",
       "    }\n",
       "</style>\n",
       "<table border=\"1\" class=\"dataframe\">\n",
       "  <thead>\n",
       "    <tr style=\"text-align: right;\">\n",
       "      <th></th>\n",
       "      <th>device</th>\n",
       "      <th>end_ts</th>\n",
       "      <th>source_id</th>\n",
       "      <th>start_ts</th>\n",
       "      <th>uid</th>\n",
       "      <th>sesion_mes</th>\n",
       "      <th>sesion_semana</th>\n",
       "      <th>sesion_fecha</th>\n",
       "      <th>weekday</th>\n",
       "      <th>season</th>\n",
       "    </tr>\n",
       "  </thead>\n",
       "  <tbody>\n",
       "    <tr>\n",
       "      <th>0</th>\n",
       "      <td>touch</td>\n",
       "      <td>2017-12-20 17:38:00</td>\n",
       "      <td>4</td>\n",
       "      <td>2017-12-20 17:20:00</td>\n",
       "      <td>16879256277535980062</td>\n",
       "      <td>2017-12-01</td>\n",
       "      <td>51</td>\n",
       "      <td>2017-12-20</td>\n",
       "      <td>Wednesday</td>\n",
       "      <td>winter</td>\n",
       "    </tr>\n",
       "    <tr>\n",
       "      <th>1</th>\n",
       "      <td>desktop</td>\n",
       "      <td>2018-02-19 17:21:00</td>\n",
       "      <td>2</td>\n",
       "      <td>2018-02-19 16:53:00</td>\n",
       "      <td>104060357244891740</td>\n",
       "      <td>2018-02-01</td>\n",
       "      <td>8</td>\n",
       "      <td>2018-02-19</td>\n",
       "      <td>Monday</td>\n",
       "      <td>winter</td>\n",
       "    </tr>\n",
       "    <tr>\n",
       "      <th>2</th>\n",
       "      <td>touch</td>\n",
       "      <td>2017-07-01 01:54:00</td>\n",
       "      <td>5</td>\n",
       "      <td>2017-07-01 01:54:00</td>\n",
       "      <td>7459035603376831527</td>\n",
       "      <td>2017-07-01</td>\n",
       "      <td>26</td>\n",
       "      <td>2017-07-01</td>\n",
       "      <td>Saturday</td>\n",
       "      <td>summer</td>\n",
       "    </tr>\n",
       "    <tr>\n",
       "      <th>3</th>\n",
       "      <td>desktop</td>\n",
       "      <td>2018-05-20 11:23:00</td>\n",
       "      <td>9</td>\n",
       "      <td>2018-05-20 10:59:00</td>\n",
       "      <td>16174680259334210214</td>\n",
       "      <td>2018-05-01</td>\n",
       "      <td>20</td>\n",
       "      <td>2018-05-20</td>\n",
       "      <td>Sunday</td>\n",
       "      <td>spring</td>\n",
       "    </tr>\n",
       "    <tr>\n",
       "      <th>4</th>\n",
       "      <td>desktop</td>\n",
       "      <td>2017-12-27 14:06:00</td>\n",
       "      <td>3</td>\n",
       "      <td>2017-12-27 14:06:00</td>\n",
       "      <td>9969694820036681168</td>\n",
       "      <td>2017-12-01</td>\n",
       "      <td>52</td>\n",
       "      <td>2017-12-27</td>\n",
       "      <td>Wednesday</td>\n",
       "      <td>winter</td>\n",
       "    </tr>\n",
       "  </tbody>\n",
       "</table>\n",
       "</div>"
      ],
      "text/plain": [
       "    device              end_ts source_id            start_ts  \\\n",
       "0    touch 2017-12-20 17:38:00         4 2017-12-20 17:20:00   \n",
       "1  desktop 2018-02-19 17:21:00         2 2018-02-19 16:53:00   \n",
       "2    touch 2017-07-01 01:54:00         5 2017-07-01 01:54:00   \n",
       "3  desktop 2018-05-20 11:23:00         9 2018-05-20 10:59:00   \n",
       "4  desktop 2017-12-27 14:06:00         3 2017-12-27 14:06:00   \n",
       "\n",
       "                    uid  sesion_mes  sesion_semana sesion_fecha    weekday  \\\n",
       "0  16879256277535980062  2017-12-01             51   2017-12-20  Wednesday   \n",
       "1    104060357244891740  2018-02-01              8   2018-02-19     Monday   \n",
       "2   7459035603376831527  2017-07-01             26   2017-07-01   Saturday   \n",
       "3  16174680259334210214  2018-05-01             20   2018-05-20     Sunday   \n",
       "4   9969694820036681168  2017-12-01             52   2017-12-27  Wednesday   \n",
       "\n",
       "   season  \n",
       "0  winter  \n",
       "1  winter  \n",
       "2  summer  \n",
       "3  spring  \n",
       "4  winter  "
      ]
     },
     "execution_count": 33,
     "metadata": {},
     "output_type": "execute_result"
    }
   ],
   "source": [
    "visitas.head()"
   ]
  },
  {
   "cell_type": "code",
   "execution_count": 34,
   "id": "5bae423b",
   "metadata": {},
   "outputs": [
    {
     "name": "stdout",
     "output_type": "stream",
     "text": [
      "sesion_fecha\n",
      "2017-06-01    664\n",
      "2017-06-02    658\n",
      "2017-06-03    477\n",
      "2017-06-04    510\n",
      "2017-06-05    893\n",
      "Name: Sesiones por día, dtype: int64\n",
      "Promedio de sesiones por día: 987.36\n"
     ]
    },
    {
     "data": {
      "image/png": "[encoded data removed]",
      "text/plain": [
       "<Figure size 1500x500 with 1 Axes>"
      ]
     },
     "metadata": {},
     "output_type": "display_data"
    }
   ],
   "source": [
    "sessions_per_day.name = 'Sesiones por día'\n",
    "\n",
    "print(sessions_per_day.head())\n",
    "\n",
    "print(\"Promedio de sesiones por día:\", round(sessions_per_day.mean(), 2))\n",
    "\n",
    "plt.figure(figsize=(15,5))\n",
    "sessions_per_day.plot(label='Sesiones por día', color='orange')\n",
    "plt.title('Cantidad de sesiones por día')\n",
    "plt.xlabel('Fecha')\n",
    "plt.ylabel('Sesiones')\n",
    "plt.legend()\n",
    "plt.show()"
   ]
  },
  {
   "cell_type": "markdown",
   "id": "4f6d3a77",
   "metadata": {},
   "source": [
    "Se calcula un promedio de 987.36 sesiones por día, lo cual sugiere que:\n",
    "\n",
    "- Algunos días (como fines de semana o fechas especiales) probablemente tienen menor número de sesiones.\n",
    "\n",
    "- Otros días, muy activos, están elevando ese promedio."
   ]
  },
  {
   "cell_type": "code",
   "execution_count": 35,
   "id": "c1c52a42",
   "metadata": {},
   "outputs": [
    {
     "name": "stdout",
     "output_type": "stream",
     "text": [
      "count    131231.000000\n",
      "mean         28.110194\n",
      "std          49.728746\n",
      "min           0.000000\n",
      "25%           0.678472\n",
      "50%           4.905556\n",
      "75%          31.963542\n",
      "max         362.540278\n",
      "Name: time_since_last_visit, dtype: float64\n"
     ]
    },
    {
     "data": {
      "image/png": "[encoded data removed]",
      "text/plain": [
       "<Figure size 1000x500 with 1 Axes>"
      ]
     },
     "metadata": {},
     "output_type": "display_data"
    }
   ],
   "source": [
    "# Frecuencia con la que los usuarios regresan\n",
    "\n",
    "visits_sorted = visitas.sort_values(by=['uid', 'start_ts'])\n",
    "\n",
    "visits_sorted['prev_session'] = visits_sorted.groupby('uid')['start_ts'].shift(1)\n",
    "visits_sorted['time_since_last_visit'] = (visits_sorted['start_ts'] - visits_sorted['prev_session']).dt.total_seconds() / (60*60*24)  # en días\n",
    "\n",
    "print(visits_sorted['time_since_last_visit'].describe())\n",
    "plt.figure(figsize=(10,5))\n",
    "visits_sorted['time_since_last_visit'].dropna().hist(bins=50, range=(0,30))\n",
    "plt.title('Días entre visitas consecutivas')\n",
    "plt.xlabel('Días desde última visita')\n",
    "plt.ylabel('Número de visitas')\n",
    "plt.show()\n"
   ]
  },
  {
   "cell_type": "markdown",
   "id": "d5dc1e5c",
   "metadata": {},
   "source": [
    "Hay un pico muy alto en los primeros días, probablemente dentro de la primera semana. Esto indica que mientras muchos usuarios regresan pronto, hay una larga cola de usuarios que tardan más o incluso abandonan."
   ]
  },
  {
   "cell_type": "markdown",
   "id": "d4d39be2",
   "metadata": {},
   "source": [
    "Ahora, preparamos las variables de registro y conversión: calcula la fecha en la que cada usuario se registró, cuándo hizo su primera compra y cuántos días tardó en convertir. "
   ]
  },
  {
   "cell_type": "code",
   "execution_count": 36,
   "id": "e47a3ff9",
   "metadata": {},
   "outputs": [],
   "source": [
    "registro = visitas.groupby('uid')['start_ts'].min().reset_index() # Asumimos que la 1era fecha de registro es la 1era visita\n",
    "registro.columns = ['uid', 'registration_date']\n",
    "\n",
    "primeras_compras = ordenes.groupby('uid')['buy_ts'].min().reset_index() #Fecha visita primera compra\n",
    "primeras_compras.columns = ['uid', 'first_purchase_date']"
   ]
  },
  {
   "cell_type": "code",
   "execution_count": 37,
   "id": "58ff9c2f",
   "metadata": {},
   "outputs": [],
   "source": [
    "visitas['start_ts'] = pd.to_datetime(visitas['start_ts'])\n",
    "ordenes['buy_ts'] = pd.to_datetime(ordenes['buy_ts'])\n",
    "\n",
    "registro = visitas.groupby('uid').agg({\n",
    "    'start_ts': 'min',\n",
    "    'source_id': 'first'\n",
    "}).reset_index()\n",
    "registro.columns = ['uid', 'registration_date', 'source_id']\n",
    "primeras_compras = ordenes.groupby('uid')['buy_ts'].min().reset_index()\n",
    "primeras_compras.columns = ['uid', 'first_purchase_date']\n",
    "conversion = pd.merge(registro, primeras_compras, on='uid', how='inner')\n",
    "\n",
    "conversion['days_to_convert'] = (conversion['first_purchase_date'] - conversion['registration_date']).dt.days\n",
    "conversion['registration_month'] = conversion['registration_date'].dt.to_period(\"M\")"
   ]
  },
  {
   "cell_type": "markdown",
   "id": "1a7310a7",
   "metadata": {},
   "source": [
    "Ahora calculamos el promedio de cuánto gasta un usuario en total y cuánto se gasta en promedio por pedido."
   ]
  },
  {
   "cell_type": "code",
   "execution_count": 38,
   "id": "610bf0be",
   "metadata": {},
   "outputs": [],
   "source": [
    "revenue_por_usuario = ordenes.groupby('uid')['revenue'].sum()\n",
    "ticket_promedio_usuario = revenue_por_usuario.mean() # Ticket promedio por usuario\n",
    "ticket_promedio_pedido = ordenes['revenue'].mean() # Ticket promedio por pedido\n"
   ]
  },
  {
   "cell_type": "code",
   "execution_count": 39,
   "id": "267045fa",
   "metadata": {},
   "outputs": [
    {
     "name": "stdout",
     "output_type": "stream",
     "text": [
      "               buy_ts  revenue                   uid  order_count  \\\n",
      "0 2017-06-01 00:10:00    17.00  10329302124590727494          NaN   \n",
      "1 2017-06-01 00:25:00     0.55  11627257723692907447          NaN   \n",
      "2 2017-06-01 00:27:00     0.37  17903680561304213844          NaN   \n",
      "3 2017-06-01 00:29:00     0.55  16109239769442553005          NaN   \n",
      "4 2017-06-01 07:58:00     0.37  14200605875248379450          NaN   \n",
      "\n",
      "  registration_month source_id  total_revenue    aov      first_purchase  \\\n",
      "0            2017-06         1          17.00  17.00 2017-06-01 00:10:00   \n",
      "1            2017-06         2           0.55   0.55 2017-06-01 00:25:00   \n",
      "2            2017-06         2           0.37   0.37 2017-06-01 00:27:00   \n",
      "3            2017-06         2           0.55   0.55 2017-06-01 00:29:00   \n",
      "4            2017-06         3           0.37   0.37 2017-06-01 07:58:00   \n",
      "\n",
      "        last_purchase  0  purchase_frequency  gasto_slope  abandono_flag  \\\n",
      "0 2017-06-01 00:10:00  1                 1.0          0.0              1   \n",
      "1 2017-06-01 00:25:00  1                 1.0          0.0              1   \n",
      "2 2017-06-01 00:27:00  1                 1.0          0.0              1   \n",
      "3 2017-06-01 00:29:00  1                 1.0          0.0              1   \n",
      "4 2017-06-01 07:58:00  1                 1.0          0.0              1   \n",
      "\n",
      "   dias_sin_comprar  mes_primera_compra  \n",
      "0               364                   6  \n",
      "1               364                   6  \n",
      "2               364                   6  \n",
      "3               364                   6  \n",
      "4               364                   6  \n"
     ]
    }
   ],
   "source": [
    "print(ordenes.head())"
   ]
  },
  {
   "cell_type": "markdown",
   "id": "f6d70eb1",
   "metadata": {},
   "source": [
    "Procedemos a calcular el ingreso acumulado de un usuario en los 180 días posteriores a su primera compra (LTV_180)"
   ]
  },
  {
   "cell_type": "code",
   "execution_count": 40,
   "id": "c3348ea6",
   "metadata": {},
   "outputs": [
    {
     "name": "stdout",
     "output_type": "stream",
     "text": [
      "                    uid  LTV_180\n",
      "0  10000837700716403746     2.20\n",
      "1  10000997030965831953     1.83\n",
      "2  10001199569370567060     1.00\n",
      "3  10002243978166172255    17.41\n",
      "4  10003351403065971701     6.72\n"
     ]
    }
   ],
   "source": [
    "# Asegurar que las fechas estén en formato datetime\n",
    "ordenes['buy_ts'] = pd.to_datetime(ordenes['buy_ts'])\n",
    "ordenes['first_purchase'] = pd.to_datetime(ordenes['first_purchase'])\n",
    "\n",
    "# Filtrar compras dentro de los 180 días posteriores a la primera compra\n",
    "ordenes['dentro_180'] = ordenes['buy_ts'] <= (ordenes['first_purchase'] + pd.Timedelta(days=180))\n",
    "\n",
    "# Calcular LTV_180 sumando el revenue dentro del rango de 180 días\n",
    "ltv_180 = ordenes[ordenes['dentro_180']].groupby('uid')['revenue'].sum().reset_index()\n",
    "ltv_180.rename(columns={'revenue': 'LTV_180'}, inplace=True)\n",
    "\n",
    "# Mostrar el resultado\n",
    "print(ltv_180.head())"
   ]
  },
  {
   "cell_type": "markdown",
   "id": "206c3139",
   "metadata": {},
   "source": [
    "- Un LTV bajo podría indicar que son usuarios que realizaron una compra inicial pero no volvieron a generar ingresos sustanciales en los 180 días posteriores.\n",
    "\n",
    "- Un LTV alto sugiere que un usuario generó ingresos mucho más altos a lo largo de su relación con la plataforma durante los primeros 180 días."
   ]
  },
  {
   "cell_type": "code",
   "execution_count": 41,
   "id": "9e095285",
   "metadata": {},
   "outputs": [],
   "source": [
    "# Agrupamos por mes y fuente\n",
    "costos['date'] = pd.to_datetime(costos['date'])\n",
    "costos['marketing_month'] = costos['date'].dt.to_period('M')\n",
    "\n",
    "gasto_total_mes = costos.groupby('marketing_month')['costs'].sum() # Gasto por mes\n",
    "gasto_por_fuente_mes = costos.groupby(['marketing_month', 'source_id'])['costs'].sum().unstack() # Gasto por fuente y mes"
   ]
  },
  {
   "cell_type": "code",
   "execution_count": 42,
   "id": "159e0f48",
   "metadata": {},
   "outputs": [
    {
     "name": "stdout",
     "output_type": "stream",
     "text": [
      "Gasto total por mes:\n",
      " marketing_month\n",
      "2017-06    18015.00\n",
      "2017-07    18240.59\n",
      "2017-08    14790.54\n",
      "2017-09    24368.91\n",
      "2017-10    36322.88\n",
      "2017-11    37907.88\n",
      "2017-12    38315.35\n",
      "2018-01    33518.52\n",
      "2018-02    32723.03\n",
      "2018-03    30415.27\n",
      "2018-04    22289.38\n",
      "2018-05    22224.27\n",
      "Freq: M, Name: costs, dtype: float64\n",
      "\n",
      "Gasto por fuente y mes:\n",
      " source_id              1      10        2         3        4        5       9\n",
      "marketing_month                                                              \n",
      "2017-06          1125.61  314.22  2427.38   7731.65  3514.80  2616.12  285.22\n",
      "2017-07          1072.88  329.82  2333.11   7674.37  3529.73  2998.14  302.54\n",
      "2017-08           951.81  232.57  1811.05   6143.54  3217.36  2185.28  248.93\n",
      "2017-09          1502.01  460.67  2985.66   9963.55  5192.26  3849.14  415.62\n",
      "2017-10          2315.75  627.24  4845.00  15737.24  6420.84  5767.40  609.41\n",
      "2017-11          2445.16  792.36  5247.68  17025.34  5388.82  6325.34  683.18\n",
      "2017-12          2341.20  645.86  4897.80  16219.52  7680.47  5872.52  657.98\n",
      "2018-01          2186.18  614.35  4157.74  14808.78  5832.79  5371.52  547.16\n",
      "2018-02          2204.48  480.88  4474.34  14228.56  5711.96  5071.31  551.50\n",
      "2018-03          1893.09  526.41  3943.14  13080.85  5961.87  4529.62  480.29\n",
      "2018-04          1327.49  388.25  2993.70   9296.81  4408.49  3501.15  373.49\n",
      "2018-05          1467.61  409.86  2689.44   9411.42  4214.21  3669.56  362.17\n"
     ]
    }
   ],
   "source": [
    "print(\"Gasto total por mes:\\n\", gasto_total_mes)\n",
    "print(\"\\nGasto por fuente y mes:\\n\", gasto_por_fuente_mes)"
   ]
  },
  {
   "cell_type": "markdown",
   "id": "220d7f30",
   "metadata": {},
   "source": [
    "Los valores indican el gasto total en marketing para cada mes, con un aumento gradual a lo largo de 2017, alcanzando su pico en diciembre de 2017 (38,315.35). Luego, en los primeros meses de 2018, el gasto disminuye ligeramente.\n",
    "\n",
    "Los meses con el mayor gasto en marketing (diciembre de 2017 y enero de 2018) podrían reflejar campañas de marketing intensivas durante la temporada navideña.\n",
    "\n",
    "Se puede observar que las fuentes de marketing varían en cuanto a su contribución a los gastos, lo que sugiere que ciertas fuentes son más eficaces o se utilizan más a menudo."
   ]
  },
  {
   "cell_type": "code",
   "execution_count": 43,
   "id": "82736c45",
   "metadata": {},
   "outputs": [
    {
     "data": {
      "text/html": [
       "<div>\n",
       "<style scoped>\n",
       "    .dataframe tbody tr th:only-of-type {\n",
       "        vertical-align: middle;\n",
       "    }\n",
       "\n",
       "    .dataframe tbody tr th {\n",
       "        vertical-align: top;\n",
       "    }\n",
       "\n",
       "    .dataframe thead th {\n",
       "        text-align: right;\n",
       "    }\n",
       "</style>\n",
       "<table border=\"1\" class=\"dataframe\">\n",
       "  <thead>\n",
       "    <tr style=\"text-align: right;\">\n",
       "      <th></th>\n",
       "      <th>device</th>\n",
       "      <th>end_ts</th>\n",
       "      <th>source_id</th>\n",
       "      <th>start_ts</th>\n",
       "      <th>uid</th>\n",
       "      <th>sesion_mes</th>\n",
       "      <th>sesion_semana</th>\n",
       "      <th>sesion_fecha</th>\n",
       "      <th>weekday</th>\n",
       "      <th>season</th>\n",
       "    </tr>\n",
       "  </thead>\n",
       "  <tbody>\n",
       "    <tr>\n",
       "      <th>0</th>\n",
       "      <td>touch</td>\n",
       "      <td>2017-12-20 17:38:00</td>\n",
       "      <td>4</td>\n",
       "      <td>2017-12-20 17:20:00</td>\n",
       "      <td>16879256277535980062</td>\n",
       "      <td>2017-12-01</td>\n",
       "      <td>51</td>\n",
       "      <td>2017-12-20</td>\n",
       "      <td>Wednesday</td>\n",
       "      <td>winter</td>\n",
       "    </tr>\n",
       "    <tr>\n",
       "      <th>1</th>\n",
       "      <td>desktop</td>\n",
       "      <td>2018-02-19 17:21:00</td>\n",
       "      <td>2</td>\n",
       "      <td>2018-02-19 16:53:00</td>\n",
       "      <td>104060357244891740</td>\n",
       "      <td>2018-02-01</td>\n",
       "      <td>8</td>\n",
       "      <td>2018-02-19</td>\n",
       "      <td>Monday</td>\n",
       "      <td>winter</td>\n",
       "    </tr>\n",
       "    <tr>\n",
       "      <th>2</th>\n",
       "      <td>touch</td>\n",
       "      <td>2017-07-01 01:54:00</td>\n",
       "      <td>5</td>\n",
       "      <td>2017-07-01 01:54:00</td>\n",
       "      <td>7459035603376831527</td>\n",
       "      <td>2017-07-01</td>\n",
       "      <td>26</td>\n",
       "      <td>2017-07-01</td>\n",
       "      <td>Saturday</td>\n",
       "      <td>summer</td>\n",
       "    </tr>\n",
       "    <tr>\n",
       "      <th>3</th>\n",
       "      <td>desktop</td>\n",
       "      <td>2018-05-20 11:23:00</td>\n",
       "      <td>9</td>\n",
       "      <td>2018-05-20 10:59:00</td>\n",
       "      <td>16174680259334210214</td>\n",
       "      <td>2018-05-01</td>\n",
       "      <td>20</td>\n",
       "      <td>2018-05-20</td>\n",
       "      <td>Sunday</td>\n",
       "      <td>spring</td>\n",
       "    </tr>\n",
       "    <tr>\n",
       "      <th>4</th>\n",
       "      <td>desktop</td>\n",
       "      <td>2017-12-27 14:06:00</td>\n",
       "      <td>3</td>\n",
       "      <td>2017-12-27 14:06:00</td>\n",
       "      <td>9969694820036681168</td>\n",
       "      <td>2017-12-01</td>\n",
       "      <td>52</td>\n",
       "      <td>2017-12-27</td>\n",
       "      <td>Wednesday</td>\n",
       "      <td>winter</td>\n",
       "    </tr>\n",
       "  </tbody>\n",
       "</table>\n",
       "</div>"
      ],
      "text/plain": [
       "    device              end_ts source_id            start_ts  \\\n",
       "0    touch 2017-12-20 17:38:00         4 2017-12-20 17:20:00   \n",
       "1  desktop 2018-02-19 17:21:00         2 2018-02-19 16:53:00   \n",
       "2    touch 2017-07-01 01:54:00         5 2017-07-01 01:54:00   \n",
       "3  desktop 2018-05-20 11:23:00         9 2018-05-20 10:59:00   \n",
       "4  desktop 2017-12-27 14:06:00         3 2017-12-27 14:06:00   \n",
       "\n",
       "                    uid  sesion_mes  sesion_semana sesion_fecha    weekday  \\\n",
       "0  16879256277535980062  2017-12-01             51   2017-12-20  Wednesday   \n",
       "1    104060357244891740  2018-02-01              8   2018-02-19     Monday   \n",
       "2   7459035603376831527  2017-07-01             26   2017-07-01   Saturday   \n",
       "3  16174680259334210214  2018-05-01             20   2018-05-20     Sunday   \n",
       "4   9969694820036681168  2017-12-01             52   2017-12-27  Wednesday   \n",
       "\n",
       "   season  \n",
       "0  winter  \n",
       "1  winter  \n",
       "2  summer  \n",
       "3  spring  \n",
       "4  winter  "
      ]
     },
     "execution_count": 43,
     "metadata": {},
     "output_type": "execute_result"
    }
   ],
   "source": [
    "ordenes['buy_ts'] = pd.to_datetime(ordenes['buy_ts'])\n",
    "costos['date'] = pd.to_datetime(costos['date'])\n",
    "\n",
    "# Fecha de conversión: primera compra por usuario\n",
    "conversion_ts = ordenes.groupby('uid')['buy_ts'].min().rename('conversion_ts')\n",
    "\n",
    "# Fuente por usuario\n",
    "source = ordenes.groupby('uid')['source_id'].first()\n",
    "\n",
    "# Unir conversión y fuente\n",
    "usuarios = pd.concat([conversion_ts, source], axis=1).reset_index()\n",
    "\n",
    "visitas.head()\n"
   ]
  },
  {
   "cell_type": "markdown",
   "id": "d59a0e6c",
   "metadata": {},
   "source": [
    "Ahora procedemos a calcular el Customer Acquisition Cost por fuente de marketing."
   ]
  },
  {
   "cell_type": "code",
   "execution_count": 44,
   "id": "5f486324",
   "metadata": {},
   "outputs": [
    {
     "name": "stdout",
     "output_type": "stream",
     "text": [
      "source_id\n",
      "1      6.191165\n",
      "10     4.471959\n",
      "2     12.037694\n",
      "3     13.941169\n",
      "4      6.107971\n",
      "5      7.280504\n",
      "7           NaN\n",
      "9      5.234810\n",
      "dtype: float64\n"
     ]
    }
   ],
   "source": [
    "clientes_por_fuente = ordenes.groupby('source_id')['uid'].nunique() # Clientes únicos por fuente\n",
    "\n",
    "costo_por_fuente = costos.groupby('source_id')['costs'].sum() # Costo total por fuente\n",
    "\n",
    "cac_por_fuente = costo_por_fuente / clientes_por_fuente # CAC por fuente\n",
    "print(cac_por_fuente)"
   ]
  },
  {
   "cell_type": "code",
   "execution_count": 45,
   "id": "5c4d767b",
   "metadata": {},
   "outputs": [
    {
     "name": "stderr",
     "output_type": "stream",
     "text": [
      "/tmp/ipykernel_4048/4212778364.py:6: FutureWarning: \n",
      "\n",
      "Passing `palette` without assigning `hue` is deprecated and will be removed in v0.14.0. Assign the `y` variable to `hue` and set `legend=False` for the same effect.\n",
      "\n",
      "  sns.barplot(data=cac_df, x='CAC', y='source_id', palette='plasma', orient='h')\n"
     ]
    },
    {
     "data": {
      "image/png": "[encoded data removed]",
      "text/plain": [
       "<Figure size 1000x600 with 1 Axes>"
      ]
     },
     "metadata": {},
     "output_type": "display_data"
    }
   ],
   "source": [
    "cac_df = cac_por_fuente.reset_index()\n",
    "cac_df.columns = ['source_id', 'CAC']\n",
    "cac_df = cac_df.dropna()\n",
    "\n",
    "plt.figure(figsize=(10, 6))\n",
    "sns.barplot(data=cac_df, x='CAC', y='source_id', palette='plasma', orient='h')\n",
    "plt.title('Costo de Adquisición de Clientes (CAC) por Fuente')\n",
    "plt.xlabel('CAC')\n",
    "plt.ylabel('ID de Fuente (source_id)')\n",
    "plt.tight_layout()\n",
    "plt.show()"
   ]
  },
  {
   "cell_type": "markdown",
   "id": "567b4408",
   "metadata": {},
   "source": [
    "Los resultados nos muestran que el costo de adquisición de clientes varía entre las diferentes fuentes. En este caso, por ejemplo:\n",
    "\n",
    "- Una fuente 10 tiene el CAC más bajo, con un valor de 4.47.\n",
    "\n",
    "- Una fuente 3 tiene el CAC más alto, con un valor de 13.94."
   ]
  },
  {
   "cell_type": "markdown",
   "id": "760a0975",
   "metadata": {},
   "source": [
    "Hemos culminado todo el Paso 1, ahora procedemos a guardar los datasets modificados para continuar con el paso 2."
   ]
  },
  {
   "cell_type": "code",
   "execution_count": 46,
   "id": "3b2bf3a2",
   "metadata": {},
   "outputs": [
    {
     "name": "stdout",
     "output_type": "stream",
     "text": [
      "Archivos guardados correctamente en: /home/clext00396/Documents/pfinal_dm/Proyecto Final/notebooks/data/processed\n"
     ]
    }
   ],
   "source": [
    "# Define el directorio donde se guardarán los datasets procesados\n",
    "PROCESSED_DATA_PATH = PROJECT_ROOT / \"data\" / \"processed\"\n",
    "\n",
    "# Asegúrate de que el directorio exista\n",
    "PROCESSED_DATA_PATH.mkdir(parents=True, exist_ok=True)\n",
    "\n",
    "try:\n",
    "    # Guardar los datasets procesados\n",
    "    visitas.to_csv(PROCESSED_DATA_PATH / \"visitas.csv\", index=False)\n",
    "    costos.to_csv(PROCESSED_DATA_PATH / \"costos.csv\", index=False)\n",
    "    ordenes.to_csv(PROCESSED_DATA_PATH / \"ordenes.csv\", index=False)\n",
    "    print(\"Archivos guardados correctamente en:\", PROCESSED_DATA_PATH)\n",
    "except Exception as e:\n",
    "    print(\"Error al guardar los archivos:\", e)"
   ]
  }
 ],
 "metadata": {
  "kernelspec": {
   "display_name": "librerias",
   "language": "python",
   "name": "python3"
  },
  "language_info": {
   "codemirror_mode": {
    "name": "ipython",
    "version": 3
   },
   "file_extension": ".py",
   "mimetype": "text/x-python",
   "name": "python",
   "nbconvert_exporter": "python",
   "pygments_lexer": "ipython3",
   "version": "3.12.3"
  }
 },
 "nbformat": 4,
 "nbformat_minor": 5
}
